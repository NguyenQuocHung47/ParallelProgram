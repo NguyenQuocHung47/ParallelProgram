{
  "cells": [
    {
      "cell_type": "markdown",
      "source": [
        "### Nhóm 12\n",
        "* 21120449 - Nguyễn Văn Hậu\n",
        "* 21120464 - Nguyễn Quốc Hưng\n",
        "\n",
        "---\n",
        "\n",
        "\n",
        "\n"
      ],
      "metadata": {
        "id": "R23L46myHnjZ"
      }
    },
    {
      "cell_type": "markdown",
      "source": [
        "# 1. Mô tả đồ án\n",
        "\n",
        "---\n",
        "\n"
      ],
      "metadata": {
        "id": "EeCVhv-dhTBy"
      }
    },
    {
      "cell_type": "markdown",
      "source": [
        "Triển khai và tối ưu mạng thần kinh nhân tạo truyền thống Artificial Neural Network (ANN) phân loại hình ảnh từ tập dữ liệu Fashion MNIST, giúp nhận dạng và phân loại các loại trang phục như áo thun, quần, giày, túi xách,...\n",
        "\n",
        "**Input:**\n",
        "\n",
        "Hình ảnh grayscale 28x28 pixel từ tập dữ liệu Fashion MNIST. Mỗi hình ảnh đại diện cho một loại trang phục.\n",
        "**Output:**\n",
        "\n",
        "Một trong 10 nhãn (`label`) tương ứng với các loại trang phục:\n",
        "\n",
        "| Label | Clothing Item       |\n",
        "|-------|----------------------|\n",
        "| 0     | T-shirt/top         |\n",
        "| 1     | Trousers            |\n",
        "| 2     | Pullover            |\n",
        "| 3     | Dress               |\n",
        "| 4     | Coat                |\n",
        "| 5     | Sandal              |\n",
        "| 6     | Shirt               |\n",
        "| 7     | Sneaker             |\n",
        "| 8     | Bag                 |\n",
        "| 9     | Ankle boot          |\n",
        "\n",
        "**Use cases**\n",
        "* Thương mại điện tử: Phân loại tự động hình ảnh sản phẩm để hỗ trợ tìm kiếm và sắp xếp hàng hóa.\n",
        "* Hệ thống quản lý kho: Theo dõi và quản lý hàng tồn kho theo danh mục.\n",
        "* Phân tích thời trang: Nhận diện xu hướng thời trang thông qua dữ liệu hình ảnh.\n",
        "* Tích hợp chatbot AI: Tìm kiếm sản phẩm dựa trên hình ảnh do người dùng tải lên.\n",
        "\n",
        "Nếu ANN được triển khai trong môi trường thời gian thực, như ứng dụng thương mại điện tử hoặc robot nhận diện, cần tối ưu tốc độ &rarr; `CUDA C++`\n",
        "\n",
        "---\n",
        "\n",
        "\n",
        "\n"
      ],
      "metadata": {
        "id": "HPkKESEMhnIn"
      }
    },
    {
      "cell_type": "markdown",
      "source": [
        "# 2. Triển khai tuần tự\n"
      ],
      "metadata": {
        "id": "4Nx0VoRbhvng"
      }
    },
    {
      "cell_type": "markdown",
      "source": [
        "### 1.Thiết kế:\n",
        "  * Tiền xử lý dữ liệu: chuẩn hóa giá trị pixel: pixel_normalized=  $\\frac{pixelValue}{255.0}$\n",
        "  * Cấu hình mạng neural:\n",
        "    * input layer: 784 - Mỗi phần tử biểu thị pixel vị trí tương ứng.\n",
        "    * 2 hidden layer: 128\n",
        "    * output layer: 10\n",
        "  * Khởi tạo mạng neural: các lớp được tạo động với trọng số được khởi tạo ngẫu nhiên theo phân phối chuẩn.\n",
        "\n",
        "##2. FeedForward:\n",
        "<p align=\"center\">$Z = XW + b$</p>\n",
        "\n",
        "### ReLU Activation\n",
        "<p align=\"center\">\\[ \\text{ReLU}(z) = \\max(0, z) \\]</p>\n",
        "\n",
        "### Apply softmax in the output\n",
        "\n",
        "<p align=\"center\">\\[ \\text{softmax}(z_i) = \\frac{e^{z_i}}{\\sum_{j=1}^{n} e^{z_j}} \\]</p>\n",
        "\n",
        "### Tính toán hàm mất mát cross-entropy\n",
        "\n",
        "<p align=\"center\">\\[ L = - \\sum_{i=1}^{N} \\sum_{c=1}^{C} y_{i,c} \\log(p_{i,c}) \\]</p>\n",
        "\n",
        "##3. Backpropagation\n",
        "\n",
        "### Error term (Phần sai số)\n",
        "\n",
        "<p align=\"center\">\\[ \\delta^{[L]} = \\mathbf{P} - \\mathbf{Y} \\]</p>\n",
        "\n",
        ">>$P$ nhãn giự đoán.\n",
        "\n",
        ">>$Y$ nhãn thực tế.\n",
        "\n",
        "### Gradient for output layer (bias & weight gradient)\n",
        "\n",
        "<p align=\"center\">\\[ \\frac{\\partial L}{\\partial \\mathbf{W}^{[L]}} = \\frac{1}{N} (\\mathbf{A}^{[L-1]})^{T} \\delta^{[L]} \\]</p>\n",
        "\n",
        "<p align=\"center\">\\[ \\frac{\\partial L}{\\partial \\mathbf{b}^{[L]}} = \\frac{1}{N} \\sum_{i=1}^{N} \\delta^{[L]}_{i} \\]</p>\n",
        "\n",
        "Trong đó $\\mathbf{A}^{[L-1]}$ là activation từ layer L-1, N là batch size\n",
        "\n",
        "### For hidden layer\n",
        "<p align=\"center\">$ \\delta^{[l]} = (\\delta^{[l+1]} \\mathbf{W}^{[l+1]}) \\odot \\text{ReLU}'(\\mathbf{Z}^{[l]}) $</p>\n",
        "\n",
        "<p align=\"center\">\\[ \\frac{\\partial L}{\\partial \\mathbf{W}^{[L]}} = \\frac{1}{N} (\\mathbf{A}^{[L-1]})^{T} \\delta^{[L]} \\]</p>\n",
        "\n",
        "<p align=\"center\">\\[ \\frac{\\partial L}{\\partial \\mathbf{b}^{[L]}} = \\frac{1}{N} \\sum_{i=1}^{N} \\delta^{[L]}_{i} \\]</p>\n",
        "\n",
        "\n",
        "### Cập nhật weight và bias\n",
        "\n",
        "<p align=\"center\">\\[ \\mathbf{W}^{[L]} = \\mathbf{W}^{[L]} - \\eta \\frac{\\partial L}{\\partial \\mathbf{W}^{[L]}} \\]</p>\n",
        "\n",
        "<p align=\"center\">\\[ \\mathbf{b}^{[L]} = \\mathbf{b}^{[L]} - \\eta \\frac{\\partial L}{\\partial \\mathbf{b}^{[L]}} \\]</p>\n",
        "\n",
        "Trong đó $\\eta$ là learning rate\n",
        "\n",
        "---\n",
        "\n",
        "\n",
        "\n",
        "\n",
        "\n",
        "\n",
        "\n",
        "\n",
        "\n"
      ],
      "metadata": {
        "id": "iDU4E5sg8Jab"
      }
    },
    {
      "cell_type": "markdown",
      "source": [
        "Đánh giá:\n",
        "\n",
        "* Mô tả thử nghiệm:\n",
        "  * Thực thi file .cpp\n",
        "  * Chạy file thực thi"
      ],
      "metadata": {
        "id": "T55pyZfinuSe"
      }
    },
    {
      "cell_type": "markdown",
      "source": [
        "\n",
        "\n",
        "---\n",
        "\n"
      ],
      "metadata": {
        "id": "SU0sx6u8OQ3_"
      }
    },
    {
      "cell_type": "markdown",
      "source": [
        "*Setup enviroment and dataset*"
      ],
      "metadata": {
        "id": "hxZQDDGlOhyt"
      }
    },
    {
      "cell_type": "code",
      "execution_count": null,
      "metadata": {
        "colab": {
          "base_uri": "https://localhost:8080/"
        },
        "id": "-uBg2LYLfQh3",
        "outputId": "53fce766-07c4-419f-cf25-f6c923ed4d8f",
        "collapsed": true
      },
      "outputs": [
        {
          "output_type": "stream",
          "name": "stdout",
          "text": [
            "Reading package lists... Done\n",
            "Building dependency tree... Done\n",
            "Reading state information... Done\n",
            "g++ is already the newest version (4:11.2.0-1ubuntu1).\n",
            "g++ set to manually installed.\n",
            "0 upgraded, 0 newly installed, 0 to remove and 49 not upgraded.\n"
          ]
        }
      ],
      "source": [
        "!apt-get install g++"
      ]
    },
    {
      "cell_type": "code",
      "source": [
        "import pandas as pd\n",
        "from tensorflow.keras.datasets import fashion_mnist\n",
        "(x_train, y_train), (x_test, y_test) = fashion_mnist.load_data()\n",
        "x_train = x_train\n",
        "x_test = x_test\n",
        "x_train = x_train.reshape(x_train.shape[0], -1)\n",
        "x_test = x_test.reshape(x_test.shape[0], -1)\n",
        "# Convert to pandas DataFrames\n",
        "x_train_subset_pd = pd.DataFrame(x_train)\n",
        "y_train_subset_pd = pd.DataFrame(y_train)\n",
        "# Save to CSV files\n",
        "x_train_subset_pd.to_csv('x_train.csv', index=False, header=False)\n",
        "y_train_subset_pd.to_csv('y_train.csv', index=False, header=False)\n",
        "# Convert to pandas DataFrames\n",
        "x_test_subset_pd = pd.DataFrame(x_test)\n",
        "y_test_subset_pd = pd.DataFrame(y_test)\n",
        "# Save to CSV files\n",
        "x_test_subset_pd.to_csv('x_test.csv', index=False, header=False)\n",
        "y_test_subset_pd.to_csv('y_test.csv', index=False, header=False)"
      ],
      "metadata": {
        "id": "vDOTaLilkaeO",
        "collapsed": true,
        "colab": {
          "base_uri": "https://localhost:8080/"
        },
        "outputId": "6024c6ba-a6d0-48c4-b5ce-936447da878f"
      },
      "execution_count": 1,
      "outputs": [
        {
          "output_type": "stream",
          "name": "stdout",
          "text": [
            "Downloading data from https://storage.googleapis.com/tensorflow/tf-keras-datasets/train-labels-idx1-ubyte.gz\n",
            "\u001b[1m29515/29515\u001b[0m \u001b[32m━━━━━━━━━━━━━━━━━━━━\u001b[0m\u001b[37m\u001b[0m \u001b[1m0s\u001b[0m 0us/step\n",
            "Downloading data from https://storage.googleapis.com/tensorflow/tf-keras-datasets/train-images-idx3-ubyte.gz\n",
            "\u001b[1m26421880/26421880\u001b[0m \u001b[32m━━━━━━━━━━━━━━━━━━━━\u001b[0m\u001b[37m\u001b[0m \u001b[1m2s\u001b[0m 0us/step\n",
            "Downloading data from https://storage.googleapis.com/tensorflow/tf-keras-datasets/t10k-labels-idx1-ubyte.gz\n",
            "\u001b[1m5148/5148\u001b[0m \u001b[32m━━━━━━━━━━━━━━━━━━━━\u001b[0m\u001b[37m\u001b[0m \u001b[1m0s\u001b[0m 0us/step\n",
            "Downloading data from https://storage.googleapis.com/tensorflow/tf-keras-datasets/t10k-images-idx3-ubyte.gz\n",
            "\u001b[1m4422102/4422102\u001b[0m \u001b[32m━━━━━━━━━━━━━━━━━━━━\u001b[0m\u001b[37m\u001b[0m \u001b[1m1s\u001b[0m 0us/step\n"
          ]
        }
      ]
    },
    {
      "cell_type": "code",
      "execution_count": null,
      "metadata": {
        "id": "xm1wNBmpf7Gu"
      },
      "outputs": [],
      "source": [
        "!g++ -g CPU_V2.cpp -o output_CPU"
      ]
    },
    {
      "cell_type": "markdown",
      "source": [
        "\n",
        "\n",
        "> Run code\n",
        "\n"
      ],
      "metadata": {
        "id": "MTGvf-a67-ub"
      }
    },
    {
      "cell_type": "code",
      "execution_count": null,
      "metadata": {
        "colab": {
          "base_uri": "https://localhost:8080/"
        },
        "id": "mUNgPop4gCGh",
        "outputId": "ad7969a7-196c-48ad-c770-6a9b58424b92"
      },
      "outputs": [
        {
          "output_type": "stream",
          "name": "stdout",
          "text": [
            "Dataset loaded successfully:\n",
            " - Train samples: 60000\n",
            " - Test samples: 10000\n",
            "Epoch 1 - Loss: 0.660987\n",
            "Epoch 2 - Loss: 0.46589\n",
            "Epoch 3 - Loss: 0.421897\n",
            "Epoch 4 - Loss: 0.394394\n",
            "Epoch 5 - Loss: 0.373926\n",
            "Epoch 6 - Loss: 0.357628\n",
            "Epoch 7 - Loss: 0.344016\n",
            "Epoch 8 - Loss: 0.332486\n",
            "Epoch 9 - Loss: 0.322408\n",
            "Epoch 10 - Loss: 0.313408\n",
            "Training completed in 1127 seconds.\n",
            "Model saved to model_CPU.bin\n",
            "Model loaded from model_CPU.bin\n",
            "Test Accuracy: 86.72%\n"
          ]
        }
      ],
      "source": [
        "!./output_CPU"
      ]
    },
    {
      "cell_type": "markdown",
      "source": [
        "* **Nhận xét**\n",
        "  * Huấn luyện mô hình tốn 1127 giây &rarr; tốn nhiều thời gian.\n",
        "  * Test accuracy: 86,72%, khá cao."
      ],
      "metadata": {
        "id": "tMfMilI9pFUN"
      }
    },
    {
      "cell_type": "markdown",
      "source": [
        "# 3. Triển khai song song hóa"
      ],
      "metadata": {
        "id": "bYXVrL4MihJq"
      }
    },
    {
      "cell_type": "markdown",
      "source": [
        "Phân tích:\n",
        "  * Phần tốn thời gian nhất : `forward`, `back_ward` và `update_weight`\n",
        "  * `forawrd` : Các phép tính của từng lớp độc lập với từng nơ-ron trong lớp đó &rarr; các phép toán trên các nơ-ron khác nhau có thể được thực hiện đồng thời.\n",
        "  * `backward` : tương tự `forward`\n",
        "  * `updateweight` : Việc cập nhật weight và bias là độc lập và có thể được thực hiện song song.\n",
        "\n",
        "Thiết kế:\n",
        "  * `forward_kernel` : Mỗi thread xử lí 1 `output_neron`.\n",
        "  * `backward_kernel` : Mỗi thread xử lí 1 `input_neron`.\n",
        "  * `update_weight_kernel` : Mỗi thread xử lí 1 `output_neron`.\n",
        "\n",
        "Đánh giá\n",
        "  * Mô tả thử nghiệm\n",
        "    * Chạy tệp thực thi.\n",
        "    * So sánh với phiên bản trước.\n",
        "    * Phân tích thông số bằng nvprof.\n"
      ],
      "metadata": {
        "id": "x0ZcDZ_JpMwl"
      }
    },
    {
      "cell_type": "markdown",
      "source": [
        "* Kết quả sau khi chạy code"
      ],
      "metadata": {
        "id": "XxKir6QHZvo-"
      }
    },
    {
      "cell_type": "code",
      "source": [
        "!nvcc GPUFinal1.cu -o output_GPU"
      ],
      "metadata": {
        "id": "-nz9r9YDhHAe"
      },
      "execution_count": null,
      "outputs": []
    },
    {
      "cell_type": "code",
      "source": [
        "!./output_GPU"
      ],
      "metadata": {
        "id": "sYiMpGwWBuXg",
        "colab": {
          "base_uri": "https://localhost:8080/"
        },
        "outputId": "6595aa37-0b5e-4c29-92e6-70671aadb162"
      },
      "execution_count": null,
      "outputs": [
        {
          "output_type": "stream",
          "name": "stdout",
          "text": [
            "Dataset loaded successfully:\n",
            " - Train samples: 60000\n",
            " - Test samples: 10000\n",
            "Epoch 1 - Loss: 0.639579\n",
            "Epoch 2 - Loss: 0.451052\n",
            "Epoch 3 - Loss: 0.407226\n",
            "Epoch 4 - Loss: 0.380254\n",
            "Epoch 5 - Loss: 0.360348\n",
            "Epoch 6 - Loss: 0.344493\n",
            "Epoch 7 - Loss: 0.331209\n",
            "Epoch 8 - Loss: 0.319698\n",
            "Epoch 9 - Loss: 0.309588\n",
            "Epoch 10 - Loss: 0.300073\n",
            "Processing time: 148098 ms\n",
            "Test Accuracy: 87.18%\n"
          ]
        }
      ]
    },
    {
      "cell_type": "code",
      "source": [
        "!nvprof ./output_GPU"
      ],
      "metadata": {
        "id": "qHio17t7xUU1",
        "colab": {
          "base_uri": "https://localhost:8080/"
        },
        "outputId": "be49e36b-363a-4e5b-a76f-be8792d95d84",
        "collapsed": true
      },
      "execution_count": null,
      "outputs": [
        {
          "output_type": "stream",
          "name": "stdout",
          "text": [
            "Dataset loaded successfully:\n",
            " - Train samples: 60000\n",
            " - Test samples: 10000\n",
            "==4997== NVPROF is profiling process 4997, command: ./output_GPU\n",
            "Epoch 1 - Loss: 0.625574\n",
            "Epoch 2 - Loss: 0.453396\n",
            "Epoch 3 - Loss: 0.4107\n",
            "Epoch 4 - Loss: 0.383252\n",
            "Epoch 5 - Loss: 0.36294\n",
            "Epoch 6 - Loss: 0.346765\n",
            "Epoch 7 - Loss: 0.332967\n",
            "Epoch 8 - Loss: 0.321468\n",
            "Epoch 9 - Loss: 0.310946\n",
            "Epoch 10 - Loss: 0.301674\n",
            "Processing time: 183198 ms\n",
            "==4997== Profiling application: ./output_GPU\n",
            "==4997== Profiling result:\n",
            "            Type  Time(%)      Time     Calls       Avg       Min       Max  Name\n",
            " GPU activities:   48.23%  19.9730s    112422  177.66us  19.360us  987.78us  update_weights_kernel(float*, float*, float const *, float const *, float, int, int, int)\n",
            "                   22.75%  9.42299s   1349078  6.9840us     351ns  47.358us  [CUDA memcpy HtoD]\n",
            "                   14.89%  6.16507s    112425  54.837us  7.9350us  294.14us  forward_kernel1(float const *, float*, float const *, float const *, int, int, int)\n",
            "                    9.65%  3.99525s    674535  5.9220us     608ns  57.470us  [CUDA memcpy DtoH]\n",
            "                    4.09%  1.69449s    112423  15.072us  2.5920us  60.222us  backward_kernel(float const *, float const *, float*, float*, float*, float const *, int, int, int)\n",
            "                    0.40%  164.62ms    112423  1.4640us  1.2470us  3.0400us  [CUDA memset]\n",
            "      API calls:   36.64%  63.9796s   2023613  31.616us  4.3150us  19.150ms  cudaMemcpy\n",
            "                   22.41%  39.1273s   1573926  24.859us  1.5350us  23.067ms  cudaMalloc\n",
            "                   19.83%  34.6373s   1573920  22.007us  1.5130us  14.135ms  cudaFree\n",
            "                   17.35%  30.3038s    337269  89.850us  2.7680us  12.120ms  cudaDeviceSynchronize\n",
            "                    2.63%  4.59889s    337270  13.635us  6.0360us  12.309ms  cudaLaunchKernel\n",
            "                    0.99%  1.73339s    112423  15.418us  8.5590us  10.765ms  cudaMemset\n",
            "                    0.09%  156.93ms    449695     348ns     124ns  10.981ms  cudaGetLastError\n",
            "                    0.06%  98.618ms         2  49.309ms  5.5050us  98.612ms  cudaEventCreate\n",
            "                    0.00%  142.25us       114  1.2470us     143ns  56.866us  cuDeviceGetAttribute\n",
            "                    0.00%  20.594us         1  20.594us  20.594us  20.594us  cudaEventRecord\n",
            "                    0.00%  13.446us         1  13.446us  13.446us  13.446us  cuDeviceGetName\n",
            "                    0.00%  12.153us         1  12.153us  12.153us  12.153us  cuDeviceGetPCIBusId\n",
            "                    0.00%  9.0330us         1  9.0330us  9.0330us  9.0330us  cuDeviceTotalMem\n",
            "                    0.00%  6.6640us         1  6.6640us  6.6640us  6.6640us  cudaEventSynchronize\n",
            "                    0.00%  1.3960us         3     465ns     189ns     944ns  cuDeviceGetCount\n",
            "                    0.00%     934ns         2     467ns     172ns     762ns  cuDeviceGet\n",
            "                    0.00%     592ns         1     592ns     592ns     592ns  cuModuleGetLoadingMode\n",
            "                    0.00%     261ns         1     261ns     261ns     261ns  cuDeviceGetUuid\n",
            "==4997== Warning: Some profiling data are not recorded.\n",
            "======== Error: Application received signal 139\n"
          ]
        }
      ]
    },
    {
      "cell_type": "markdown",
      "source": [
        "* Nhận xét : Kết quả có sự cải thiện so với phiên bản `Host` do phần tính toán được song song hóa."
      ],
      "metadata": {
        "id": "fAjotNkupzOM"
      }
    },
    {
      "cell_type": "markdown",
      "source": [
        "# 4. Triển khai và tối ưu song song hóa"
      ],
      "metadata": {
        "id": "N2uQxttRjQVZ"
      }
    },
    {
      "cell_type": "markdown",
      "source": [
        "Phân tích phiên bản triển khai song song hóa đầu tiên:"
      ],
      "metadata": {
        "id": "1Z4SQntZL6wU"
      }
    },
    {
      "cell_type": "markdown",
      "source": [
        "![Screenshot 2024-12-26 203820.png](data:image/png;base64,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)"
      ],
      "metadata": {
        "id": "xUgf3ruTNDHl"
      }
    },
    {
      "cell_type": "markdown",
      "source": [
        "* Vấn đề: cudaMemCpy overhead.\n",
        "* Tập trung tối ưu các task tốn thời gian."
      ],
      "metadata": {
        "id": "y7tLzWSE0CFY"
      }
    },
    {
      "cell_type": "markdown",
      "source": [
        "## 4.1. Phiên bản 1"
      ],
      "metadata": {
        "id": "aGBasrudLvqj"
      }
    },
    {
      "cell_type": "markdown",
      "source": [
        "Phân tích:\n",
        "* Các `kernel` ở phiên bản song song đầu tiên truy xuất trực tiếp bằng GMEM &rarr; delay.\n",
        "* `update_weight_kernel` phải sử dụng 1 vòng for để tính toán &rarr; sử dụng thread không hiệu quả."
      ],
      "metadata": {
        "id": "MRcoblWsjx5H"
      }
    },
    {
      "cell_type": "markdown",
      "source": [
        "Ý tưởng:\n",
        "* Tối ưu hóa `update_weight_kernel`: sử dụng `input_size` * `output_size` thread thay vì `output_size` thread.\n",
        "* Sử dụng SMEM, CMEM trên `forward_kernel`, `backward_kernel` và `update_weight_kernel`."
      ],
      "metadata": {
        "id": "zvugyXIZ0H8j"
      }
    },
    {
      "cell_type": "markdown",
      "source": [
        "Đánh giá:\n",
        "* Mô tả thử nghiệm\n",
        "  * Chạy tệp thực thi\n",
        "  * Phân tích thông số bằng nvprof\n",
        "  * So sánh với phiên bản song song đầu tiên"
      ],
      "metadata": {
        "id": "XMo9RT9wLcxe"
      }
    },
    {
      "cell_type": "markdown",
      "source": [
        "  * Kết quả sau khi chạy code"
      ],
      "metadata": {
        "id": "wiQT23DxcxjI"
      }
    },
    {
      "cell_type": "code",
      "source": [
        "!nvcc GPU_Optimize1.cu -o op1"
      ],
      "metadata": {
        "id": "dbllm9kBp6ay"
      },
      "execution_count": null,
      "outputs": []
    },
    {
      "cell_type": "code",
      "source": [
        "!./op1"
      ],
      "metadata": {
        "id": "5BwK0-j-BFTq",
        "colab": {
          "base_uri": "https://localhost:8080/"
        },
        "outputId": "f4b141f5-2f29-42cc-cc29-2d3fbe10c284"
      },
      "execution_count": null,
      "outputs": [
        {
          "output_type": "stream",
          "name": "stdout",
          "text": [
            "Dataset loaded successfully:\n",
            " - Train samples: 60000\n",
            " - Test samples: 10000\n",
            "Epoch 1 - Loss: 0.64435\n",
            "Epoch 2 - Loss: 0.45935\n",
            "Epoch 3 - Loss: 0.413326\n",
            "Epoch 4 - Loss: 0.385231\n",
            "Epoch 5 - Loss: 0.364826\n",
            "Epoch 6 - Loss: 0.348394\n",
            "Epoch 7 - Loss: 0.334888\n",
            "Epoch 8 - Loss: 0.32318\n",
            "Epoch 9 - Loss: 0.312885\n",
            "Epoch 10 - Loss: 0.303737\n",
            "Processing time: 127861 ms\n",
            "Test Accuracy: 87.02%\n"
          ]
        }
      ]
    },
    {
      "cell_type": "code",
      "source": [
        "!nvprof ./op1"
      ],
      "metadata": {
        "id": "mJ_nGDsX11hX",
        "colab": {
          "base_uri": "https://localhost:8080/"
        },
        "outputId": "199a151e-b4af-4707-d473-6f146e32720a",
        "collapsed": true
      },
      "execution_count": null,
      "outputs": [
        {
          "output_type": "stream",
          "name": "stdout",
          "text": [
            "Dataset loaded successfully:\n",
            " - Train samples: 60000\n",
            " - Test samples: 10000\n",
            "==7022== NVPROF is profiling process 7022, command: ./op1\n",
            "Epoch 1 - Loss: 0.645524\n",
            "Epoch 2 - Loss: 0.460259\n",
            "Epoch 3 - Loss: 0.4151\n",
            "Epoch 4 - Loss: 0.387045\n",
            "Epoch 5 - Loss: 0.366558\n",
            "Epoch 6 - Loss: 0.350644\n",
            "Epoch 7 - Loss: 0.337145\n",
            "Epoch 8 - Loss: 0.325927\n",
            "Epoch 9 - Loss: 0.315941\n",
            "Epoch 10 - Loss: 0.306602\n",
            "Processing time: 160380 ms\n",
            "Test Accuracy: 87.06%\n",
            "==7022== Profiling application: ./op1\n",
            "==7022== Profiling result:\n",
            "            Type  Time(%)      Time     Calls       Avg       Min       Max  Name\n",
            " GPU activities:   43.52%  9.74293s   1350009  7.2160us     544ns  6.5810ms  [CUDA memcpy HtoD]\n",
            "                   23.71%  5.30766s    112503  47.177us  5.9510us  47.840ms  forward_kernel1(float const *, float*, float const *, int, int, int)\n",
            "                   19.78%  4.42726s    675003  6.5580us  1.2480us  2.4228ms  [CUDA memcpy DtoH]\n",
            "                    9.89%  2.21435s    112500  19.683us  4.1910us  50.591us  backward_kernel2(float const *, float const *, float*, float*, float const *, float*, int, int, int)\n",
            "                    1.96%  438.39ms    112500  3.8960us  2.3670us  7.1990us  update_weights_kernel(float*, float*, float const *, float, int, int)\n",
            "                    1.15%  256.66ms    112500  2.2810us  1.9190us  3.2960us  [CUDA memset]\n",
            "      API calls:   40.20%  61.2159s   1912509  32.008us  4.3150us  13.047ms  cudaMemcpy\n",
            "                   25.22%  38.4054s   1575012  24.384us  1.6950us  15.150ms  cudaMalloc\n",
            "                   22.41%  34.1297s   1575012  21.669us  1.5730us  16.116ms  cudaFree\n",
            "                    6.18%  9.40962s    337503  27.880us  2.9080us  47.848ms  cudaDeviceSynchronize\n",
            "                    2.93%  4.45582s    337503  13.202us  6.2730us  13.271ms  cudaLaunchKernel\n",
            "                    1.81%  2.76101s    112503  24.541us  5.5850us  11.166ms  cudaMemcpyToSymbol\n",
            "                    1.08%  1.64176s    112500  14.593us  8.4180us  11.810ms  cudaMemset\n",
            "                    0.11%  173.60ms    450006     385ns     121ns  12.433ms  cudaGetLastError\n",
            "                    0.06%  92.905ms         2  46.452ms  1.4960us  92.903ms  cudaEventCreate\n",
            "                    0.00%  152.17us       114  1.3340us     148ns  58.972us  cuDeviceGetAttribute\n",
            "                    0.00%  28.766us         2  14.383us  11.250us  17.516us  cudaEventRecord\n",
            "                    0.00%  14.860us         1  14.860us  14.860us  14.860us  cuDeviceGetName\n",
            "                    0.00%  12.471us         2  6.2350us  6.1160us  6.3550us  cudaEventSynchronize\n",
            "                    0.00%  7.3860us         2  3.6930us     942ns  6.4440us  cudaEventDestroy\n",
            "                    0.00%  6.8060us         1  6.8060us  6.8060us  6.8060us  cuDeviceTotalMem\n",
            "                    0.00%  5.0920us         1  5.0920us  5.0920us  5.0920us  cuDeviceGetPCIBusId\n",
            "                    0.00%  2.8990us         1  2.8990us  2.8990us  2.8990us  cudaEventElapsedTime\n",
            "                    0.00%  1.2840us         3     428ns     169ns     614ns  cuDeviceGetCount\n",
            "                    0.00%     955ns         2     477ns     381ns     574ns  cuDeviceGet\n",
            "                    0.00%     525ns         1     525ns     525ns     525ns  cuModuleGetLoadingMode\n",
            "                    0.00%     266ns         1     266ns     266ns     266ns  cuDeviceGetUuid\n"
          ]
        }
      ]
    },
    {
      "cell_type": "markdown",
      "source": [
        "![image.png](data:image/png;base64,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)"
      ],
      "metadata": {
        "id": "aIfeylqw-3Rx"
      }
    },
    {
      "cell_type": "markdown",
      "source": [
        "* Nhận xét:\n",
        "  * Thời gian chạy của `update_weight_kernel` giảm đáng kể (19s &rarr; 0.5s).\n",
        "  * `forward_kernel` và `backward_kernel` có thời gian chạy giảm 1 phần."
      ],
      "metadata": {
        "id": "ElhiKvfzMNr9"
      }
    },
    {
      "cell_type": "markdown",
      "source": [
        "## 4.2. Phiên bản 2"
      ],
      "metadata": {
        "id": "1godeSSrMctK"
      }
    },
    {
      "cell_type": "markdown",
      "source": [
        "Phân tích:\n",
        "* Ở các phiên bản trước, việc triển khai các `kernel` là độc lập &rarr; phải phân bổ và giải phóng nhiều lần."
      ],
      "metadata": {
        "id": "qsyjXu29qoGZ"
      }
    },
    {
      "cell_type": "markdown",
      "source": [
        "Ý tưởng:\n",
        "* Tái sử dụng GPU được phân bổ: Tái sử dụng bộ nhớ GPU được phân bổ thay vì phân bổ và giải phóng bộ nhớ ở mỗi layer."
      ],
      "metadata": {
        "id": "MkB5BnJnP2iB"
      }
    },
    {
      "cell_type": "markdown",
      "source": [
        "Đánh giá:\n",
        "* Mô tả thử nghiệm\n",
        "    * Chạy tệp thực thi.\n",
        "    * Phân tích thông số bằng nvprof.\n",
        "    * So sánh với phiên bản song song trước đó."
      ],
      "metadata": {
        "id": "iItfA62KP856"
      }
    },
    {
      "cell_type": "markdown",
      "source": [
        "* Kết quả sau khi chạy code"
      ],
      "metadata": {
        "id": "FngaHQ9mdjMJ"
      }
    },
    {
      "cell_type": "code",
      "source": [
        "!nvcc GPU_Optimize2-Modify.cu -o op2"
      ],
      "metadata": {
        "id": "QsWjYJBxbiXa"
      },
      "execution_count": 21,
      "outputs": []
    },
    {
      "cell_type": "code",
      "source": [
        "!./op2 16"
      ],
      "metadata": {
        "colab": {
          "base_uri": "https://localhost:8080/"
        },
        "id": "FhF_cmrTbnJ7",
        "outputId": "b09eef20-7f85-49b6-a98d-0172dabfd11c"
      },
      "execution_count": null,
      "outputs": [
        {
          "output_type": "stream",
          "name": "stdout",
          "text": [
            "Dataset loaded successfully:\n",
            " - Train samples: 60000\n",
            " - Test samples: 10000\n",
            "Epoch 1 - Loss: 0.633853\n",
            "Epoch 2 - Loss: 0.455709\n",
            "Epoch 3 - Loss: 0.413549\n",
            "Epoch 4 - Loss: 0.386822\n",
            "Epoch 5 - Loss: 0.366953\n",
            "Epoch 6 - Loss: 0.351047\n",
            "Epoch 7 - Loss: 0.337448\n",
            "Epoch 8 - Loss: 0.325806\n",
            "Epoch 9 - Loss: 0.315637\n",
            "Epoch 10 - Loss: 0.306509\n",
            "Processing time: 14428.4 ms\n",
            "Model saved to model.bin\n",
            "Model loaded from model.bin\n",
            "Test Accuracy: 87.16%\n"
          ]
        }
      ]
    },
    {
      "cell_type": "code",
      "source": [
        "!nvprof ./op2 16"
      ],
      "metadata": {
        "colab": {
          "base_uri": "https://localhost:8080/"
        },
        "id": "FPGpaGKocPdD",
        "outputId": "2f679acb-28c9-4d79-faee-6146271149f5",
        "collapsed": true
      },
      "execution_count": null,
      "outputs": [
        {
          "output_type": "stream",
          "name": "stdout",
          "text": [
            "Dataset loaded successfully:\n",
            " - Train samples: 60000\n",
            " - Test samples: 10000\n",
            "==2217== NVPROF is profiling process 2217, command: ./op2 16\n",
            "Epoch 1 - Loss: 0.62248\n",
            "Epoch 2 - Loss: 0.449255\n",
            "Epoch 3 - Loss: 0.406484\n",
            "Epoch 4 - Loss: 0.38001\n",
            "Epoch 5 - Loss: 0.360544\n",
            "Epoch 6 - Loss: 0.345028\n",
            "Epoch 7 - Loss: 0.332001\n",
            "Epoch 8 - Loss: 0.320565\n",
            "Epoch 9 - Loss: 0.31054\n",
            "Epoch 10 - Loss: 0.301461\n",
            "Processing time: 26320.2 ms\n",
            "Model saved to model.bin\n",
            "Model loaded from model.bin\n",
            "Test Accuracy: 86.98%\n",
            "==2217== Profiling application: ./op2 16\n",
            "==2217== Profiling result:\n",
            "            Type  Time(%)      Time     Calls       Avg       Min       Max  Name\n",
            " GPU activities:   52.79%  3.98037s    112503  35.380us  4.7040us  30.148ms  forward_kernel1(float const *, float*, float const *, int, int, int)\n",
            "                   21.80%  1.64347s    112500  14.608us  2.9760us  58.848us  backward_kernel2(float const *, float const *, float*, float*, float const *, float*, int, int, int)\n",
            "                    6.89%  519.18ms    225009  2.3070us  1.3430us  2.6531ms  [CUDA memcpy DtoH]\n",
            "                    5.90%  444.77ms    225015  1.9760us     479ns  6.6279ms  [CUDA memcpy HtoD]\n",
            "                    4.83%  363.93ms    225003  1.6170us  1.4070us  3.2960us  [CUDA memcpy DtoD]\n",
            "                    4.19%  316.01ms    112500  2.8080us  1.7280us  7.0400us  update_weights_kernel(float*, float*, float const *, float, int, int)\n",
            "                    3.61%  272.14ms    225000  1.2090us     447ns  3.8400us  [CUDA memset]\n",
            "      API calls:   35.97%  8.11746s    337503  24.051us  2.2160us  30.181ms  cudaDeviceSynchronize\n",
            "                   31.99%  7.21850s    450024  16.040us  3.0620us  13.035ms  cudaMemcpy\n",
            "                   12.46%  2.81073s    337503  8.3280us  3.4940us  14.297ms  cudaLaunchKernel\n",
            "                   11.51%  2.59729s    225003  11.543us  4.9560us  13.710ms  cudaMemcpyToSymbol\n",
            "                    7.31%  1.65052s    225000  7.3350us  1.9990us  14.102ms  cudaMemset\n",
            "                    0.40%  91.372ms         2  45.686ms  1.2340us  91.371ms  cudaEventCreate\n",
            "                    0.34%  77.376ms    225003     343ns     139ns  6.3751ms  cudaGetLastError\n",
            "                    0.01%  1.9632ms        36  54.534us  1.6300us  957.57us  cudaFree\n",
            "                    0.01%  1.1429ms        36  31.745us  2.6670us  248.49us  cudaMalloc\n",
            "                    0.00%  142.79us       114  1.2520us     135ns  57.770us  cuDeviceGetAttribute\n",
            "                    0.00%  22.632us         2  11.316us  5.2870us  17.345us  cudaEventRecord\n",
            "                    0.00%  21.132us         2  10.566us  7.3800us  13.752us  cudaEventSynchronize\n",
            "                    0.00%  12.146us         1  12.146us  12.146us  12.146us  cuDeviceGetName\n",
            "                    0.00%  5.5410us         1  5.5410us  5.5410us  5.5410us  cuDeviceGetPCIBusId\n",
            "                    0.00%  4.7700us         2  2.3850us     844ns  3.9260us  cudaEventDestroy\n",
            "                    0.00%  4.4860us         1  4.4860us  4.4860us  4.4860us  cuDeviceTotalMem\n",
            "                    0.00%  2.6150us         1  2.6150us  2.6150us  2.6150us  cudaEventElapsedTime\n",
            "                    0.00%  1.6540us         3     551ns     198ns  1.2210us  cuDeviceGetCount\n",
            "                    0.00%  1.0070us         2     503ns     180ns     827ns  cuDeviceGet\n",
            "                    0.00%     569ns         1     569ns     569ns     569ns  cuModuleGetLoadingMode\n",
            "                    0.00%     244ns         1     244ns     244ns     244ns  cuDeviceGetUuid\n"
          ]
        }
      ]
    },
    {
      "cell_type": "markdown",
      "source": [
        "![image.png](data:image/png;base64,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)"
      ],
      "metadata": {
        "id": "x0f89zSCDTOm"
      }
    },
    {
      "cell_type": "markdown",
      "source": [
        "* Nhận xét: thời gian train model giảm đáng kể (160s &rarr; 14s)."
      ],
      "metadata": {
        "id": "bmuOZU4kQAuy"
      }
    },
    {
      "cell_type": "markdown",
      "source": [
        "## 4.3. Phiên bản 3"
      ],
      "metadata": {
        "id": "19Eew0HQOw8g"
      }
    },
    {
      "cell_type": "markdown",
      "source": [
        "Phân tích:\n",
        "* Việc tái sử dụng GPU thay vì giải phóng sẽ chiếm nhiều bộ nhớ\n",
        "* Khi batch size tăng lên hoặc mạng trở nên phức tạp hơn &rarr; \"overweight\"\n",
        "* Phần dữ liệu chiếm phần lớn bộ nhớ : `d_input` và `d_output` tăng theo `batch_size`"
      ],
      "metadata": {
        "id": "OvbTf1WWtlWn"
      }
    },
    {
      "cell_type": "markdown",
      "source": [
        "Ý tưởng tối ưu:\n",
        "* Tái sử dụng GPU với các phần chiếm ít bộ nhớ GPU.\n",
        "* Giải phóng `d_input` và `d_output` ngay khi sử dụng xong"
      ],
      "metadata": {
        "id": "DtVuMSmNQGU3"
      }
    },
    {
      "cell_type": "markdown",
      "source": [
        "Đánh giá:\n",
        "* Mô tả thực nghiệm\n",
        "    * Chạy tệp thực thi.\n",
        "    * Phân tích thông số bằng nvprof.\n",
        "    * So sánh với các phiên bản song song trước đó."
      ],
      "metadata": {
        "id": "APZHTjXOQMQD"
      }
    },
    {
      "cell_type": "markdown",
      "source": [
        "* Kết quả sau khi chạy code"
      ],
      "metadata": {
        "id": "HgJvhpwLeTSq"
      }
    },
    {
      "cell_type": "code",
      "source": [
        "!nvcc GPU_Optimize3-Modify.cu -o op3"
      ],
      "metadata": {
        "id": "xqfYLTjYb3mV"
      },
      "execution_count": null,
      "outputs": []
    },
    {
      "cell_type": "code",
      "source": [
        "!./op3 16"
      ],
      "metadata": {
        "colab": {
          "base_uri": "https://localhost:8080/"
        },
        "id": "IX9KG3_xb9QU",
        "outputId": "a785a160-e0a7-4b2c-bb85-c15ad23a0951"
      },
      "execution_count": null,
      "outputs": [
        {
          "output_type": "stream",
          "name": "stdout",
          "text": [
            "Dataset loaded successfully:\n",
            " - Train samples: 60000\n",
            " - Test samples: 10000\n",
            "Epoch 1 - Loss: 0.627318\n",
            "Epoch 2 - Loss: 0.450951\n",
            "Epoch 3 - Loss: 0.40756\n",
            "Epoch 4 - Loss: 0.380914\n",
            "Epoch 5 - Loss: 0.361577\n",
            "Epoch 6 - Loss: 0.346044\n",
            "Epoch 7 - Loss: 0.332988\n",
            "Epoch 8 - Loss: 0.321606\n",
            "Epoch 9 - Loss: 0.311742\n",
            "Epoch 10 - Loss: 0.302655\n",
            "Processing time: 18679.5 ms\n",
            "Model saved to model.bin\n",
            "Model loaded from model.bin\n",
            "Test Accuracy: 86.99%\n"
          ]
        }
      ]
    },
    {
      "cell_type": "code",
      "source": [
        "!nvprof ./op3 16"
      ],
      "metadata": {
        "colab": {
          "base_uri": "https://localhost:8080/"
        },
        "id": "bk2vJM7CclSr",
        "outputId": "3161bf82-d664-49d3-beb2-1f49b13f269d",
        "collapsed": true
      },
      "execution_count": null,
      "outputs": [
        {
          "output_type": "stream",
          "name": "stdout",
          "text": [
            "Dataset loaded successfully:\n",
            " - Train samples: 60000\n",
            " - Test samples: 10000\n",
            "==1592== NVPROF is profiling process 1592, command: ./op3 16\n",
            "Epoch 1 - Loss: 0.631963\n",
            "Epoch 2 - Loss: 0.456862\n",
            "Epoch 3 - Loss: 0.413775\n",
            "Epoch 4 - Loss: 0.386252\n",
            "Epoch 5 - Loss: 0.365845\n",
            "Epoch 6 - Loss: 0.349656\n",
            "Epoch 7 - Loss: 0.335942\n",
            "Epoch 8 - Loss: 0.324309\n",
            "Epoch 9 - Loss: 0.313903\n",
            "Epoch 10 - Loss: 0.304666\n",
            "Processing time: 35214.3 ms\n",
            "Model saved to model.bin\n",
            "Model loaded from model.bin\n",
            "Test Accuracy: 86.96%\n",
            "==1592== Profiling application: ./op3 16\n",
            "==1592== Profiling result:\n",
            "            Type  Time(%)      Time     Calls       Avg       Min       Max  Name\n",
            " GPU activities:   52.10%  5.26820s    112503  46.827us  6.1750us  42.394ms  forward_kernel1(float const *, float*, float const *, int, int, int)\n",
            "                   21.54%  2.17836s    112500  19.363us  3.9990us  59.167us  backward_kernel2(float const *, float const *, float*, float*, float const *, float*, int, int, int)\n",
            "                    8.47%  856.39ms    337515  2.5370us     639ns  6.5644ms  [CUDA memcpy HtoD]\n",
            "                    5.64%  569.77ms    225009  2.5320us  1.1200us  2.9725ms  [CUDA memcpy DtoH]\n",
            "                    4.68%  473.37ms    225003  2.1030us  1.8560us  3.3280us  [CUDA memcpy DtoD]\n",
            "                    4.08%  412.04ms    112500  3.6620us  2.3360us  7.1040us  update_weights_kernel(float*, float*, float const *, float, int, int)\n",
            "                    3.49%  352.87ms    225000  1.5680us     607ns  3.8400us  [CUDA memset]\n",
            "      API calls:   34.06%  10.5257s    337503  31.187us  2.2720us  42.432ms  cudaDeviceSynchronize\n",
            "                   30.06%  9.29049s    562524  16.515us  3.2190us  14.723ms  cudaMemcpy\n",
            "                    9.38%  2.89976s    337503  8.5910us  3.3410us  13.633ms  cudaLaunchKernel\n",
            "                    8.77%  2.71016s    225003  12.044us  4.9890us  15.461ms  cudaMemcpyToSymbol\n",
            "                    5.95%  1.83755s    450036  4.0830us  1.4670us  11.491ms  cudaMalloc\n",
            "                    5.67%  1.75127s    450036  3.8910us  1.4230us  9.5273ms  cudaFree\n",
            "                    5.48%  1.69469s    225000  7.5310us  2.1230us  11.626ms  cudaMemset\n",
            "                    0.32%  98.747ms    225003     438ns     166ns  7.0253ms  cudaGetLastError\n",
            "                    0.31%  94.520ms         2  47.260ms     959ns  94.519ms  cudaEventCreate\n",
            "                    0.00%  151.03us       114  1.3240us     146ns  57.249us  cuDeviceGetAttribute\n",
            "                    0.00%  19.376us         2  9.6880us  7.2130us  12.163us  cudaEventRecord\n",
            "                    0.00%  13.444us         1  13.444us  13.444us  13.444us  cuDeviceGetName\n",
            "                    0.00%  12.819us         2  6.4090us  5.4740us  7.3450us  cudaEventSynchronize\n",
            "                    0.00%  5.5690us         1  5.5690us  5.5690us  5.5690us  cuDeviceGetPCIBusId\n",
            "                    0.00%  4.2620us         2  2.1310us     582ns  3.6800us  cudaEventDestroy\n",
            "                    0.00%  4.1650us         1  4.1650us  4.1650us  4.1650us  cuDeviceTotalMem\n",
            "                    0.00%  3.4190us         1  3.4190us  3.4190us  3.4190us  cudaEventElapsedTime\n",
            "                    0.00%  1.3480us         3     449ns     212ns     862ns  cuDeviceGetCount\n",
            "                    0.00%     971ns         2     485ns     192ns     779ns  cuDeviceGet\n",
            "                    0.00%     610ns         1     610ns     610ns     610ns  cuModuleGetLoadingMode\n",
            "                    0.00%     254ns         1     254ns     254ns     254ns  cuDeviceGetUuid\n"
          ]
        }
      ]
    },
    {
      "cell_type": "markdown",
      "source": [
        "* Nhận xét: tổng thời gian chạy chậm hơn vì phải phân bổ và giải phóng vùng nhớ `inputs` `output`."
      ],
      "metadata": {
        "id": "-CI_0rE8QTjI"
      }
    },
    {
      "cell_type": "markdown",
      "source": [
        "## 4.4. Phiên bản 4"
      ],
      "metadata": {
        "id": "hOBMvXnGQVNb"
      }
    },
    {
      "cell_type": "markdown",
      "source": [
        "Phân tích:\n",
        "* Các phiên bản trước chỉ sử dụng 1 stream (`stream 0`), lãng phí thời gian đợi `H2D` và `D2H` (Data transfer."
      ],
      "metadata": {
        "id": "MEi-Hxm2Qb-8"
      }
    },
    {
      "cell_type": "markdown",
      "source": [
        "Ý tưởng: Sử dụng stream overlap các `kernel` với `H2D` và `D2H`.  \n",
        "*Kết hợp Optimize 3 và stream*"
      ],
      "metadata": {
        "id": "l6B-LIz3QdxT"
      }
    },
    {
      "cell_type": "markdown",
      "source": [
        "Đánh giá:\n",
        "* Mô tả thực nghiệm\n",
        "    * Chạy tệp thực thi.\n",
        "    * Phân tích thông số bằng nvprof.\n",
        "    * So sánh với các phiên bản song song trước đó."
      ],
      "metadata": {
        "id": "tzgtks6YQjf6"
      }
    },
    {
      "cell_type": "markdown",
      "source": [
        "* Kết quả sau khi chạy code"
      ],
      "metadata": {
        "id": "sauu1fg8eu2J"
      }
    },
    {
      "cell_type": "code",
      "source": [
        "!nvcc GPU_Optimize4-Modify.cu -o op4"
      ],
      "metadata": {
        "id": "ItBUD5bqCWtL"
      },
      "execution_count": 17,
      "outputs": []
    },
    {
      "cell_type": "code",
      "source": [
        "!./op4 16"
      ],
      "metadata": {
        "colab": {
          "base_uri": "https://localhost:8080/"
        },
        "id": "Vo5WaxqRCbzt",
        "outputId": "e05289f4-d958-49d5-cd33-5b23779e9dfd"
      },
      "execution_count": null,
      "outputs": [
        {
          "output_type": "stream",
          "name": "stdout",
          "text": [
            "Dataset loaded successfully:\n",
            " - Train samples: 60000\n",
            " - Test samples: 10000\n",
            "Epoch 1 - Loss: 0.618898\n",
            "Epoch 2 - Loss: 0.454553\n",
            "Epoch 3 - Loss: 0.410617\n",
            "Epoch 4 - Loss: 0.382975\n",
            "Epoch 5 - Loss: 0.362373\n",
            "Epoch 6 - Loss: 0.345789\n",
            "Epoch 7 - Loss: 0.331771\n",
            "Epoch 8 - Loss: 0.320217\n",
            "Epoch 9 - Loss: 0.309718\n",
            "Epoch 10 - Loss: 0.300417\n",
            "Processing time: 22357.4 ms\n",
            "Model saved to model.bin\n",
            "Model loaded from model.bin\n",
            "Test Accuracy: 86.97%\n"
          ]
        }
      ]
    },
    {
      "cell_type": "code",
      "source": [
        "!!nvcc GPU_Optimize5-Modify.cu -o op5"
      ],
      "metadata": {
        "id": "AJlKZI7c2E_v",
        "colab": {
          "base_uri": "https://localhost:8080/"
        },
        "outputId": "4b50c249-f4e2-4995-9b79-4b999b4d1292"
      },
      "execution_count": 23,
      "outputs": [
        {
          "output_type": "execute_result",
          "data": {
            "text/plain": [
              "[]"
            ]
          },
          "metadata": {},
          "execution_count": 23
        }
      ]
    },
    {
      "cell_type": "code",
      "source": [
        "!./op5 16"
      ],
      "metadata": {
        "colab": {
          "base_uri": "https://localhost:8080/"
        },
        "id": "r3vAefpAEihQ",
        "outputId": "93b61ea8-5a6b-4852-ce00-276c1255e572"
      },
      "execution_count": 14,
      "outputs": [
        {
          "output_type": "stream",
          "name": "stdout",
          "text": [
            "Dataset loaded successfully:\n",
            " - Train samples: 60000\n",
            " - Test samples: 10000\n",
            "Epoch 1 - Loss: 0.626715\n",
            "Epoch 2 - Loss: 0.452896\n",
            "Epoch 3 - Loss: 0.409102\n",
            "Epoch 4 - Loss: 0.38146\n",
            "Epoch 5 - Loss: 0.361159\n",
            "Epoch 6 - Loss: 0.345113\n",
            "Epoch 7 - Loss: 0.331564\n",
            "Epoch 8 - Loss: 0.319839\n",
            "Epoch 9 - Loss: 0.309358\n",
            "Epoch 10 - Loss: 0.300081\n",
            "Processing time: 20119.1 ms\n",
            "Model saved to model.bin\n",
            "Model loaded from model.bin\n",
            "Test Accuracy: 87.05%\n"
          ]
        }
      ]
    },
    {
      "cell_type": "markdown",
      "source": [
        "* Nhận xét :\n",
        "  * Thời gian chạy bằng phiên bản 4,5 chậm hơn phiên bản 3 và 2.\n",
        "  * Nguyên nhân:\n",
        "    * Tuy overlap được với các task `H2D` và `D2H` nhưng `kernel` phải chạy nhiều lần hơn , tốn nhiều thời gian cho `cudaLaunchKernel`.\n",
        "    * Do `BatchSize` nhỏ &rarr; chi phí gọi kernel overhead `H2D` và `D2H`.\n",
        "\n",
        "&rarr; Chạy lại với `BatchSize` lớn hơn (`16` &rarr; `64`)"
      ],
      "metadata": {
        "id": "Yz4CTKusQpPs"
      }
    },
    {
      "cell_type": "markdown",
      "source": [
        "## 4.5. Thực thi với batchsize khác"
      ],
      "metadata": {
        "id": "ZTJKSfc02ZRc"
      }
    },
    {
      "cell_type": "markdown",
      "source": [
        "Đánh giá:\n",
        "* Mô tả thực nghiệm\n",
        "    * Chạy tệp thực thi.\n",
        "    * Phân tích thông số bằng nvprof.\n",
        "    * So sánh với phiên bản 2, 3, 4 trước đó."
      ],
      "metadata": {
        "id": "wuBSA5lYfIs2"
      }
    },
    {
      "cell_type": "markdown",
      "source": [
        "* Kết quả sau khi chạy code"
      ],
      "metadata": {
        "id": "J6jKbZIufON6"
      }
    },
    {
      "cell_type": "markdown",
      "source": [
        "#### Version 2"
      ],
      "metadata": {
        "id": "V_gfzO6Odby5"
      }
    },
    {
      "cell_type": "code",
      "source": [
        "!./op2 64"
      ],
      "metadata": {
        "colab": {
          "base_uri": "https://localhost:8080/"
        },
        "id": "sTQ45LFKa2pK",
        "outputId": "f38503f3-cb08-4a88-da73-c5de2b88f5df"
      },
      "execution_count": null,
      "outputs": [
        {
          "output_type": "stream",
          "name": "stdout",
          "text": [
            "Dataset loaded successfully:\n",
            " - Train samples: 60000\n",
            " - Test samples: 10000\n",
            "Epoch 1 - Loss: 0.868433\n",
            "Epoch 2 - Loss: 0.561023\n",
            "Epoch 3 - Loss: 0.503368\n",
            "Epoch 4 - Loss: 0.472549\n",
            "Epoch 5 - Loss: 0.451555\n",
            "Epoch 6 - Loss: 0.435331\n",
            "Epoch 7 - Loss: 0.42212\n",
            "Epoch 8 - Loss: 0.410845\n",
            "Epoch 9 - Loss: 0.400975\n",
            "Epoch 10 - Loss: 0.392286\n",
            "Processing time: 9040.63 ms\n",
            "Model saved to model.bin\n",
            "Model loaded from model.bin\n",
            "Test Accuracy: 84.62%\n"
          ]
        }
      ]
    },
    {
      "cell_type": "code",
      "source": [
        "!nvprof ./op2 64"
      ],
      "metadata": {
        "colab": {
          "base_uri": "https://localhost:8080/"
        },
        "id": "iw-If-ggdWCZ",
        "outputId": "9ccf2541-6cc0-433a-dbc5-872c09ecf349",
        "collapsed": true
      },
      "execution_count": null,
      "outputs": [
        {
          "output_type": "stream",
          "name": "stdout",
          "text": [
            "Dataset loaded successfully:\n",
            " - Train samples: 60000\n",
            " - Test samples: 10000\n",
            "==5861== NVPROF is profiling process 5861, command: ./op2 64\n",
            "Epoch 1 - Loss: 0.845199\n",
            "Epoch 2 - Loss: 0.562685\n",
            "Epoch 3 - Loss: 0.508173\n",
            "Epoch 4 - Loss: 0.478291\n",
            "Epoch 5 - Loss: 0.457193\n",
            "Epoch 6 - Loss: 0.441048\n",
            "Epoch 7 - Loss: 0.428057\n",
            "Epoch 8 - Loss: 0.417147\n",
            "Epoch 9 - Loss: 0.407637\n",
            "Epoch 10 - Loss: 0.399239\n",
            "Processing time: 12397.1 ms\n",
            "Model saved to model.bin\n",
            "Model loaded from model.bin\n",
            "Test Accuracy: 84.18%\n",
            "==5861== Profiling application: ./op2 64\n",
            "==5861== Profiling result:\n",
            "            Type  Time(%)      Time     Calls       Avg       Min       Max  Name\n",
            " GPU activities:   60.47%  2.67516s     28143  95.055us  4.3840us  23.289ms  forward_kernel1(float const *, float*, float const *, int, int, int)\n",
            "                   19.86%  878.37ms     28140  31.214us  2.8480us  174.24us  backward_kernel2(float const *, float const *, float*, float*, float const *, float*, int, int, int)\n",
            "                    8.46%  374.14ms     56295  6.6460us     352ns  6.8760ms  [CUDA memcpy HtoD]\n",
            "                    6.94%  307.17ms     56289  5.4560us  1.2480us  2.8906ms  [CUDA memcpy DtoH]\n",
            "                    1.63%  72.125ms     56283  1.2810us  1.1190us  3.2960us  [CUDA memcpy DtoD]\n",
            "                    1.41%  62.229ms     28140  2.2110us  1.3760us  6.9760us  update_weights_kernel(float*, float*, float const *, float, int, int)\n",
            "                    1.23%  54.524ms     56280     968ns     351ns  3.8400us  [CUDA memset]\n",
            "      API calls:   47.58%  4.54460s     84423  53.831us  2.3270us  23.300ms  cudaDeviceSynchronize\n",
            "                   32.24%  3.07953s    112584  27.353us  3.6390us  18.853ms  cudaMemcpy\n",
            "                    7.59%  724.56ms     84423  8.5820us  3.4550us  13.154ms  cudaLaunchKernel\n",
            "                    7.10%  677.85ms     56283  12.043us  5.3020us  17.349ms  cudaMemcpyToSymbol\n",
            "                    4.35%  415.48ms     56280  7.3820us  2.0250us  9.3441ms  cudaMemset\n",
            "                    0.95%  91.054ms         2  45.527ms     982ns  91.053ms  cudaEventCreate\n",
            "                    0.16%  15.642ms     56283     277ns     134ns  20.721us  cudaGetLastError\n",
            "                    0.02%  1.7255ms        36  47.930us  2.2730us  753.86us  cudaFree\n",
            "                    0.01%  1.3406ms        36  37.238us  1.7510us  341.70us  cudaMalloc\n",
            "                    0.00%  139.64us       114  1.2240us     134ns  57.351us  cuDeviceGetAttribute\n",
            "                    0.00%  18.048us         2  9.0240us  4.9780us  13.070us  cudaEventRecord\n",
            "                    0.00%  12.163us         2  6.0810us  4.7780us  7.3850us  cudaEventSynchronize\n",
            "                    0.00%  11.965us         1  11.965us  11.965us  11.965us  cuDeviceGetName\n",
            "                    0.00%  6.2440us         1  6.2440us  6.2440us  6.2440us  cuDeviceGetPCIBusId\n",
            "                    0.00%  5.3660us         1  5.3660us  5.3660us  5.3660us  cuDeviceTotalMem\n",
            "                    0.00%  5.3540us         2  2.6770us  1.0600us  4.2940us  cudaEventDestroy\n",
            "                    0.00%  2.0060us         1  2.0060us  2.0060us  2.0060us  cudaEventElapsedTime\n",
            "                    0.00%  1.6250us         3     541ns     203ns  1.2040us  cuDeviceGetCount\n",
            "                    0.00%  1.1350us         2     567ns     177ns     958ns  cuDeviceGet\n",
            "                    0.00%     488ns         1     488ns     488ns     488ns  cuModuleGetLoadingMode\n",
            "                    0.00%     263ns         1     263ns     263ns     263ns  cuDeviceGetUuid\n"
          ]
        }
      ]
    },
    {
      "cell_type": "markdown",
      "source": [
        "#### Version 3"
      ],
      "metadata": {
        "id": "YfA7LU71dlm4"
      }
    },
    {
      "cell_type": "code",
      "source": [
        "!./op3 64"
      ],
      "metadata": {
        "colab": {
          "base_uri": "https://localhost:8080/"
        },
        "id": "8XITNsvFbBdg",
        "outputId": "449cfa41-9f46-4d3f-e010-22a1eaa29995"
      },
      "execution_count": null,
      "outputs": [
        {
          "output_type": "stream",
          "name": "stdout",
          "text": [
            "Dataset loaded successfully:\n",
            " - Train samples: 60000\n",
            " - Test samples: 10000\n",
            "Epoch 1 - Loss: 0.86955\n",
            "Epoch 2 - Loss: 0.568973\n",
            "Epoch 3 - Loss: 0.507783\n",
            "Epoch 4 - Loss: 0.475288\n",
            "Epoch 5 - Loss: 0.453621\n",
            "Epoch 6 - Loss: 0.43729\n",
            "Epoch 7 - Loss: 0.424161\n",
            "Epoch 8 - Loss: 0.413177\n",
            "Epoch 9 - Loss: 0.403665\n",
            "Epoch 10 - Loss: 0.395229\n",
            "Processing time: 10915.4 ms\n",
            "Model saved to model.bin\n",
            "Model loaded from model.bin\n",
            "Test Accuracy: 84.58%\n"
          ]
        }
      ]
    },
    {
      "cell_type": "code",
      "source": [
        "!nvprof ./op3 64"
      ],
      "metadata": {
        "colab": {
          "base_uri": "https://localhost:8080/"
        },
        "id": "RvHcjwSodoST",
        "outputId": "70956ada-36c8-4b66-802c-c52ee3aeab0f",
        "collapsed": true
      },
      "execution_count": null,
      "outputs": [
        {
          "output_type": "stream",
          "name": "stdout",
          "text": [
            "Dataset loaded successfully:\n",
            " - Train samples: 60000\n",
            " - Test samples: 10000\n",
            "==7061== NVPROF is profiling process 7061, command: ./op3 64\n",
            "Epoch 1 - Loss: 0.857674\n",
            "Epoch 2 - Loss: 0.55701\n",
            "Epoch 3 - Loss: 0.499884\n",
            "Epoch 4 - Loss: 0.469922\n",
            "Epoch 5 - Loss: 0.449499\n",
            "Epoch 6 - Loss: 0.433843\n",
            "Epoch 7 - Loss: 0.421016\n",
            "Epoch 8 - Loss: 0.410089\n",
            "Epoch 9 - Loss: 0.400565\n",
            "Epoch 10 - Loss: 0.392153\n",
            "Processing time: 13732.6 ms\n",
            "Model saved to model.bin\n",
            "Model loaded from model.bin\n",
            "Test Accuracy: 84.75%\n",
            "==7061== Profiling application: ./op3 64\n",
            "==7061== Profiling result:\n",
            "            Type  Time(%)      Time     Calls       Avg       Min       Max  Name\n",
            " GPU activities:   57.38%  2.72615s     28143  96.867us  4.3840us  23.023ms  forward_kernel1(float const *, float*, float const *, int, int, int)\n",
            "                   18.31%  869.92ms     28140  30.914us  2.7190us  174.59us  backward_kernel2(float const *, float const *, float*, float*, float const *, float*, int, int, int)\n",
            "                   13.95%  662.67ms     84435  7.8480us     352ns  6.7387ms  [CUDA memcpy HtoD]\n",
            "                    6.40%  303.90ms     56289  5.3980us  1.2160us  2.5191ms  [CUDA memcpy DtoH]\n",
            "                    1.51%  71.969ms     56283  1.2780us  1.1190us  3.3280us  [CUDA memcpy DtoD]\n",
            "                    1.31%  62.310ms     28140  2.2140us  1.4070us  7.0400us  update_weights_kernel(float*, float*, float const *, float, int, int)\n",
            "                    1.13%  53.893ms     56280     957ns     351ns  3.8720us  [CUDA memset]\n",
            "      API calls:   40.30%  4.37321s     84423  51.801us  2.2620us  23.069ms  cudaDeviceSynchronize\n",
            "                   35.86%  3.89066s    140724  27.647us  3.6140us  11.103ms  cudaMemcpy\n",
            "                    5.98%  648.75ms     84423  7.6840us  3.5750us  11.514ms  cudaLaunchKernel\n",
            "                    5.65%  613.51ms     56283  10.900us  5.2080us  9.0450ms  cudaMemcpyToSymbol\n",
            "                    3.72%  403.72ms    112596  3.5850us  1.4830us  6.4108ms  cudaMalloc\n",
            "                    3.70%  401.10ms    112596  3.5620us  1.4260us  12.691ms  cudaFree\n",
            "                    3.67%  397.80ms     56280  7.0680us  2.0930us  9.3599ms  cudaMemset\n",
            "                    0.90%  97.671ms         2  48.835ms  1.2610us  97.669ms  cudaEventCreate\n",
            "                    0.22%  24.297ms     56283     431ns     139ns  6.0381ms  cudaGetLastError\n",
            "                    0.00%  145.81us       114  1.2790us     145ns  61.177us  cuDeviceGetAttribute\n",
            "                    0.00%  26.919us         2  13.459us  7.4070us  19.512us  cudaEventRecord\n",
            "                    0.00%  12.853us         1  12.853us  12.853us  12.853us  cuDeviceGetName\n",
            "                    0.00%  11.529us         2  5.7640us  4.5300us  6.9990us  cudaEventSynchronize\n",
            "                    0.00%  7.0410us         1  7.0410us  7.0410us  7.0410us  cuDeviceGetPCIBusId\n",
            "                    0.00%  4.7970us         1  4.7970us  4.7970us  4.7970us  cuDeviceTotalMem\n",
            "                    0.00%  3.8650us         2  1.9320us     615ns  3.2500us  cudaEventDestroy\n",
            "                    0.00%  3.4760us         1  3.4760us  3.4760us  3.4760us  cudaEventElapsedTime\n",
            "                    0.00%  1.9270us         3     642ns     243ns  1.4400us  cuDeviceGetCount\n",
            "                    0.00%     939ns         2     469ns     169ns     770ns  cuDeviceGet\n",
            "                    0.00%     562ns         1     562ns     562ns     562ns  cuModuleGetLoadingMode\n",
            "                    0.00%     367ns         1     367ns     367ns     367ns  cuDeviceGetUuid\n"
          ]
        }
      ]
    },
    {
      "cell_type": "markdown",
      "source": [
        "#### Version 4"
      ],
      "metadata": {
        "id": "Hwe6cDf7drZg"
      }
    },
    {
      "cell_type": "code",
      "source": [
        "!./op4 64"
      ],
      "metadata": {
        "id": "_kDX0hrQB6Tc",
        "colab": {
          "base_uri": "https://localhost:8080/"
        },
        "outputId": "5b3712fd-d4f0-4c31-ac98-40960e04415f"
      },
      "execution_count": 19,
      "outputs": [
        {
          "output_type": "stream",
          "name": "stdout",
          "text": [
            "Dataset loaded successfully:\n",
            " - Train samples: 60000\n",
            " - Test samples: 10000\n",
            "Epoch 1 - Loss: 0.859588\n",
            "Epoch 2 - Loss: 0.561051\n",
            "Epoch 3 - Loss: 0.505643\n",
            "Epoch 4 - Loss: 0.475946\n",
            "Epoch 5 - Loss: 0.455498\n",
            "Epoch 6 - Loss: 0.43974\n",
            "Epoch 7 - Loss: 0.426779\n",
            "Epoch 8 - Loss: 0.415748\n",
            "Epoch 9 - Loss: 0.406104\n",
            "Epoch 10 - Loss: 0.397582\n",
            "Processing time: 8930.47 ms\n",
            "Model saved to model.bin\n",
            "Model loaded from model.bin\n",
            "Test Accuracy: 84.19%\n"
          ]
        }
      ]
    },
    {
      "cell_type": "code",
      "source": [
        "!nvprof ./op4 64"
      ],
      "metadata": {
        "colab": {
          "base_uri": "https://localhost:8080/"
        },
        "id": "0Oh-69mWdtdK",
        "outputId": "88997467-ce87-419f-c786-b0693949d2d7",
        "collapsed": true
      },
      "execution_count": 18,
      "outputs": [
        {
          "output_type": "stream",
          "name": "stdout",
          "text": [
            "Dataset loaded successfully:\n",
            " - Train samples: 60000\n",
            " - Test samples: 10000\n",
            "==6028== NVPROF is profiling process 6028, command: ./op4 64\n",
            "Epoch 1 - Loss: 0.889772\n",
            "Epoch 2 - Loss: 0.562943\n",
            "Epoch 3 - Loss: 0.503858\n",
            "Epoch 4 - Loss: 0.471987\n",
            "Epoch 5 - Loss: 0.450338\n",
            "Epoch 6 - Loss: 0.433829\n",
            "Epoch 7 - Loss: 0.420312\n",
            "Epoch 8 - Loss: 0.408976\n",
            "Epoch 9 - Loss: 0.399255\n",
            "Epoch 10 - Loss: 0.390633\n",
            "Processing time: 16061.5 ms\n",
            "Model saved to model.bin\n",
            "Model loaded from model.bin\n",
            "Test Accuracy: 84.58%\n",
            "==6028== Profiling application: ./op4 64\n",
            "==6028== Profiling result:\n",
            "            Type  Time(%)      Time     Calls       Avg       Min       Max  Name\n",
            " GPU activities:   65.14%  5.82255s    112572  51.722us  3.7430us  5.9063ms  forward_kernel1(float const *, float*, float const *, int, int, int)\n",
            "                   14.81%  1.32337s    112560  11.757us  2.3360us  126.17us  backward_kernel2(float const *, float const *, float*, float*, float const *, float*, int, int, int)\n",
            "                   10.39%  928.88ms    337704  2.7500us     352ns  658.93us  [CUDA memcpy HtoD]\n",
            "                    7.57%  676.60ms    253278  2.6710us     640ns  99.005us  [CUDA memcpy DtoH]\n",
            "                    0.80%  71.480ms     56283  1.2700us  1.1190us  3.2960us  [CUDA memcpy DtoD]\n",
            "                    0.69%  61.747ms     28140  2.1940us  1.3760us  7.0390us  update_weights_kernel(float*, float*, float const *, float, int, int)\n",
            "                    0.60%  53.476ms     56280     950ns     351ns  3.8400us  [CUDA memset]\n",
            "      API calls:   31.29%  3.98079s    562824  7.0720us  2.5350us  10.068ms  cudaMemcpyAsync\n",
            "                   23.63%  3.00598s    225132  13.352us  1.4360us  19.207ms  cudaStreamSynchronize\n",
            "                   17.99%  2.28915s    253272  9.0380us  3.5320us  11.080ms  cudaLaunchKernel\n",
            "                    5.07%  644.64ms     28158  22.893us  5.8250us  10.927ms  cudaMemcpy\n",
            "                    4.77%  606.22ms    112596  5.3840us  1.5380us  9.4613ms  cudaFree\n",
            "                    4.29%  545.93ms    112596  4.8480us  1.5940us  7.0052ms  cudaMalloc\n",
            "                    3.68%  468.58ms     56280  8.3250us  2.0670us  10.887ms  cudaMemset\n",
            "                    2.85%  362.43ms     28143  12.878us  5.2850us  7.0499ms  cudaMemcpyToSymbolAsync\n",
            "                    2.75%  349.39ms     28140  12.416us  5.5210us  7.0502ms  cudaMemcpyToSymbol\n",
            "                    2.41%  306.99ms     56280  5.4540us  1.9900us  7.0367ms  cudaDeviceSynchronize\n",
            "                    0.72%  91.445ms         4  22.861ms  2.0150us  91.438ms  cudaStreamCreate\n",
            "                    0.29%  37.029ms        12  3.0857ms  2.9340us  21.255ms  cudaHostAlloc\n",
            "                    0.16%  20.147ms     56283     357ns     148ns  57.449us  cudaGetLastError\n",
            "                    0.10%  13.184ms        12  1.0987ms  2.6330us  8.0979ms  cudaFreeHost\n",
            "                    0.00%  133.49us       114  1.1700us     135ns  51.326us  cuDeviceGetAttribute\n",
            "                    0.00%  39.878us         4  9.9690us  4.4350us  24.643us  cudaStreamDestroy\n",
            "                    0.00%  21.697us         2  10.848us  5.9590us  15.738us  cudaEventRecord\n",
            "                    0.00%  12.392us         1  12.392us  12.392us  12.392us  cuDeviceGetName\n",
            "                    0.00%  11.358us         2  5.6790us  4.6550us  6.7030us  cudaEventSynchronize\n",
            "                    0.00%  8.2040us         2  4.1020us     587ns  7.6170us  cudaEventCreate\n",
            "                    0.00%  5.3370us         1  5.3370us  5.3370us  5.3370us  cuDeviceGetPCIBusId\n",
            "                    0.00%  4.2990us         1  4.2990us  4.2990us  4.2990us  cuDeviceTotalMem\n",
            "                    0.00%  4.0060us         2  2.0030us     711ns  3.2950us  cudaEventDestroy\n",
            "                    0.00%  3.0780us         1  3.0780us  3.0780us  3.0780us  cudaEventElapsedTime\n",
            "                    0.00%  1.3140us         3     438ns     204ns     859ns  cuDeviceGetCount\n",
            "                    0.00%     984ns         2     492ns     237ns     747ns  cuDeviceGet\n",
            "                    0.00%     577ns         1     577ns     577ns     577ns  cuModuleGetLoadingMode\n",
            "                    0.00%     232ns         1     232ns     232ns     232ns  cuDeviceGetUuid\n"
          ]
        }
      ]
    },
    {
      "cell_type": "code",
      "source": [
        "!./op5 64"
      ],
      "metadata": {
        "colab": {
          "base_uri": "https://localhost:8080/"
        },
        "id": "ftkbXFE1FIBx",
        "outputId": "d5fa0435-d8e0-49c5-ff70-553d755d7e73"
      },
      "execution_count": 15,
      "outputs": [
        {
          "output_type": "stream",
          "name": "stdout",
          "text": [
            "Dataset loaded successfully:\n",
            " - Train samples: 60000\n",
            " - Test samples: 10000\n",
            "Epoch 1 - Loss: 0.873291\n",
            "Epoch 2 - Loss: 0.563093\n",
            "Epoch 3 - Loss: 0.50603\n",
            "Epoch 4 - Loss: 0.475358\n",
            "Epoch 5 - Loss: 0.454187\n",
            "Epoch 6 - Loss: 0.437726\n",
            "Epoch 7 - Loss: 0.42431\n",
            "Epoch 8 - Loss: 0.412999\n",
            "Epoch 9 - Loss: 0.403239\n",
            "Epoch 10 - Loss: 0.39454\n",
            "Processing time: 8036.05 ms\n",
            "Model saved to model.bin\n",
            "Model loaded from model.bin\n",
            "Test Accuracy: 84.67%\n"
          ]
        }
      ]
    },
    {
      "cell_type": "code",
      "source": [
        "!nvprof ./op5 64"
      ],
      "metadata": {
        "colab": {
          "base_uri": "https://localhost:8080/"
        },
        "collapsed": true,
        "id": "ueoOXfAoFgYF",
        "outputId": "67ff3e48-b72f-4034-ee8b-e5f3f296bf80"
      },
      "execution_count": null,
      "outputs": [
        {
          "output_type": "stream",
          "name": "stdout",
          "text": [
            "Dataset loaded successfully:\n",
            " - Train samples: 60000\n",
            " - Test samples: 10000\n",
            "==6129== NVPROF is profiling process 6129, command: ./op5 64\n",
            "Epoch 1 - Loss: 0.848764\n",
            "Epoch 2 - Loss: 0.554483\n",
            "Epoch 3 - Loss: 0.502598\n",
            "Epoch 4 - Loss: 0.473899\n",
            "Epoch 5 - Loss: 0.454176\n",
            "Epoch 6 - Loss: 0.438888\n",
            "Epoch 7 - Loss: 0.426061\n",
            "Epoch 8 - Loss: 0.415157\n",
            "Epoch 9 - Loss: 0.405419\n",
            "Epoch 10 - Loss: 0.396724\n",
            "Processing time: 14859.2 ms\n",
            "Model saved to model.bin\n",
            "Model loaded from model.bin\n",
            "Test Accuracy: 84.08%\n",
            "==6129== Profiling application: ./op5 64\n",
            "==6129== Profiling result:\n",
            "            Type  Time(%)      Time     Calls       Avg       Min       Max  Name\n",
            " GPU activities:   68.60%  5.82724s    112572  51.764us  3.6790us  6.0971ms  forward_kernel1(float const *, float*, float const *, int, int, int)\n",
            "                   15.86%  1.34760s    112560  11.972us  2.3680us  136.73us  backward_kernel2(float const *, float const *, float*, float*, float const *, float*, int, int, int)\n",
            "                    8.04%  683.13ms    253278  2.6970us     640ns  98.911us  [CUDA memcpy DtoH]\n",
            "                    5.32%  452.18ms    225144  2.0080us     352ns  672.38us  [CUDA memcpy HtoD]\n",
            "                    0.83%  70.554ms     56283  1.2530us  1.1190us  3.2640us  [CUDA memcpy DtoD]\n",
            "                    0.72%  61.109ms     28140  2.1710us  1.4070us  7.0080us  update_weights_kernel(float*, float*, float const *, float, int, int)\n",
            "                    0.62%  52.744ms     56280     937ns     351ns  3.8400us  [CUDA memset]\n",
            "      API calls:   30.67%  3.47437s    450264  7.7160us  2.7350us  12.088ms  cudaMemcpyAsync\n",
            "                   25.50%  2.88894s    225132  12.832us  1.4610us  14.081ms  cudaStreamSynchronize\n",
            "                   20.83%  2.36000s    253272  9.3180us  3.7560us  12.049ms  cudaLaunchKernel\n",
            "                    6.07%  687.13ms     28158  24.402us  7.0680us  10.070ms  cudaMemcpy\n",
            "                    4.37%  495.34ms     56280  8.8010us  2.0810us  7.9954ms  cudaMemset\n",
            "                    4.20%  475.94ms     84423  5.6370us  2.0440us  10.127ms  cudaDeviceSynchronize\n",
            "                    3.41%  385.87ms     28143  13.711us  5.2440us  9.0093ms  cudaMemcpyToSymbolAsync\n",
            "                    3.34%  378.58ms     28140  13.453us  5.6590us  8.9912ms  cudaMemcpyToSymbol\n",
            "                    0.89%  100.94ms         4  25.235ms  2.0060us  100.93ms  cudaStreamCreate\n",
            "                    0.35%  39.823ms        12  3.3186ms  2.8360us  25.759ms  cudaHostAlloc\n",
            "                    0.23%  25.912ms     56283     460ns     141ns  1.1173ms  cudaGetLastError\n",
            "                    0.10%  11.563ms        12  963.54us  2.6940us  6.2636ms  cudaFreeHost\n",
            "                    0.02%  2.1504ms        42  51.199us  1.5240us  773.24us  cudaFree\n",
            "                    0.02%  1.7570ms        42  41.833us  1.6110us  346.06us  cudaMalloc\n",
            "                    0.00%  144.69us       114  1.2690us     146ns  57.321us  cuDeviceGetAttribute\n",
            "                    0.00%  33.575us         4  8.3930us  2.9270us  24.101us  cudaStreamDestroy\n",
            "                    0.00%  18.881us         2  9.4400us  6.0110us  12.870us  cudaEventRecord\n",
            "                    0.00%  12.998us         2  6.4990us  5.4170us  7.5810us  cudaEventSynchronize\n",
            "                    0.00%  12.106us         1  12.106us  12.106us  12.106us  cuDeviceGetName\n",
            "                    0.00%  7.0190us         2  3.5090us     588ns  6.4310us  cudaEventCreate\n",
            "                    0.00%  6.0460us         1  6.0460us  6.0460us  6.0460us  cuDeviceGetPCIBusId\n",
            "                    0.00%  4.7720us         2  2.3860us     677ns  4.0950us  cudaEventDestroy\n",
            "                    0.00%  4.5680us         1  4.5680us  4.5680us  4.5680us  cuDeviceTotalMem\n",
            "                    0.00%  2.5670us         1  2.5670us  2.5670us  2.5670us  cudaEventElapsedTime\n",
            "                    0.00%  1.3540us         3     451ns     219ns     859ns  cuDeviceGetCount\n",
            "                    0.00%     939ns         2     469ns     190ns     749ns  cuDeviceGet\n",
            "                    0.00%     542ns         1     542ns     542ns     542ns  cuModuleGetLoadingMode\n",
            "                    0.00%     252ns         1     252ns     252ns     252ns  cuDeviceGetUuid\n"
          ]
        }
      ]
    },
    {
      "cell_type": "markdown",
      "source": [
        "## 4.6. So sánh"
      ],
      "metadata": {
        "id": "YsPbEN2lhbUA"
      }
    },
    {
      "cell_type": "markdown",
      "source": [
        "\n",
        "\n",
        "| Version | Batchsize | Runtime|\n",
        "| ---- | ---- | ---- |\n",
        "| 1 | 16 | 12.7 | 5.31 | 2.21 | 0.43 |\n",
        "| 2 | 16 | 14.5 | 15.1 | 4.61 | 0.24 |\n",
        "| 3 | 16 | 18.6 | 4.93 | 2.04 | 0.39 |\n",
        "| 4 | 16 | 22.4 | 15.12 | 4.67 | 0.24|\n",
        "| 5 | 16 | 20.6 | 5.71 | 1.3 | 0.06 |\n",
        "\n",
        "| Version | Batchsize | Runtime|\n",
        "| ---- | ---- | ---- |\n",
        "| 2 | 64 | 9.0 | 15.1 | 4.61 | 0.24 |\n",
        "| 3 | 64 |10.9 | 4.93 | 2.04 | 0.39 |\n",
        "| 4 | 64 | 8.9 | 15.12 | 4.67 | 0.24|\n",
        "| 5 | 64 | 8.0 | 5.71 | 1.3 | 0.06 |\n",
        "\n",
        "\n"
      ],
      "metadata": {
        "id": "p_-d8G-Xd4MB"
      }
    },
    {
      "cell_type": "markdown",
      "source": [],
      "metadata": {
        "id": "xBBoJq1bKbJq"
      }
    },
    {
      "cell_type": "code",
      "source": [
        "# Here is the command to install Nsight system on Colab. You just need to run the cell.\n",
        "!wget https://developer.download.nvidia.com/compute/cuda/repos/ubuntu2204/x86_64/nsight-systems-2023.2.3_2023.2.3.1001-1_amd64.deb\n",
        "!apt update\n",
        "!apt install ./nsight-systems-2023.2.3_2023.2.3.1001-1_amd64.deb\n",
        "!apt --fix-broken install"
      ],
      "metadata": {
        "colab": {
          "base_uri": "https://localhost:8080/"
        },
        "collapsed": true,
        "id": "ZymM86tPafBG",
        "outputId": "07d8f6cc-3de8-4233-dcfb-e3989f307bd4"
      },
      "execution_count": 6,
      "outputs": [
        {
          "output_type": "stream",
          "name": "stdout",
          "text": [
            "--2024-12-27 00:20:04--  https://developer.download.nvidia.com/compute/cuda/repos/ubuntu2204/x86_64/nsight-systems-2023.2.3_2023.2.3.1001-1_amd64.deb\n",
            "Resolving developer.download.nvidia.com (developer.download.nvidia.com)... 152.199.39.144\n",
            "Connecting to developer.download.nvidia.com (developer.download.nvidia.com)|152.199.39.144|:443... connected.\n",
            "HTTP request sent, awaiting response... 200 OK\n",
            "Length: 317705436 (303M) [application/x-deb]\n",
            "Saving to: ‘nsight-systems-2023.2.3_2023.2.3.1001-1_amd64.deb’\n",
            "\n",
            "nsight-systems-2023 100%[===================>] 302.99M  17.8MB/s    in 5.2s    \n",
            "\n",
            "2024-12-27 00:20:10 (58.5 MB/s) - ‘nsight-systems-2023.2.3_2023.2.3.1001-1_amd64.deb’ saved [317705436/317705436]\n",
            "\n",
            "Get:1 https://cloud.r-project.org/bin/linux/ubuntu jammy-cran40/ InRelease [3,626 B]\n",
            "Hit:2 https://developer.download.nvidia.com/compute/cuda/repos/ubuntu2204/x86_64  InRelease\n",
            "Hit:3 http://archive.ubuntu.com/ubuntu jammy InRelease\n",
            "Get:4 http://security.ubuntu.com/ubuntu jammy-security InRelease [129 kB]\n",
            "Get:5 http://archive.ubuntu.com/ubuntu jammy-updates InRelease [128 kB]\n",
            "Hit:6 https://ppa.launchpadcontent.net/deadsnakes/ppa/ubuntu jammy InRelease\n",
            "Hit:7 https://ppa.launchpadcontent.net/graphics-drivers/ppa/ubuntu jammy InRelease\n",
            "Get:8 https://r2u.stat.illinois.edu/ubuntu jammy InRelease [6,555 B]\n",
            "Hit:9 https://ppa.launchpadcontent.net/ubuntugis/ppa/ubuntu jammy InRelease\n",
            "Get:10 http://archive.ubuntu.com/ubuntu jammy-backports InRelease [127 kB]\n",
            "Get:11 https://r2u.stat.illinois.edu/ubuntu jammy/main all Packages [8,566 kB]\n",
            "Get:12 http://archive.ubuntu.com/ubuntu jammy-updates/main amd64 Packages [2,830 kB]\n",
            "Get:13 http://security.ubuntu.com/ubuntu jammy-security/main amd64 Packages [2,517 kB]\n",
            "Get:14 http://archive.ubuntu.com/ubuntu jammy-updates/restricted amd64 Packages [3,614 kB]\n",
            "Get:15 http://archive.ubuntu.com/ubuntu jammy-updates/universe amd64 Packages [1,517 kB]\n",
            "Get:16 http://archive.ubuntu.com/ubuntu jammy-backports/main amd64 Packages [81.4 kB]\n",
            "Get:17 http://archive.ubuntu.com/ubuntu jammy-backports/universe amd64 Packages [33.8 kB]\n",
            "Get:18 http://security.ubuntu.com/ubuntu jammy-security/universe amd64 Packages [1,226 kB]\n",
            "Get:19 http://security.ubuntu.com/ubuntu jammy-security/restricted amd64 Packages [3,448 kB]\n",
            "Get:20 https://r2u.stat.illinois.edu/ubuntu jammy/main amd64 Packages [2,630 kB]\n",
            "Fetched 26.9 MB in 4s (6,277 kB/s)\n",
            "Reading package lists... Done\n",
            "Building dependency tree... Done\n",
            "Reading state information... Done\n",
            "50 packages can be upgraded. Run 'apt list --upgradable' to see them.\n",
            "\u001b[1;33mW: \u001b[0mSkipping acquire of configured file 'main/source/Sources' as repository 'https://r2u.stat.illinois.edu/ubuntu jammy InRelease' does not seem to provide it (sources.list entry misspelt?)\u001b[0m\n",
            "Reading package lists... Done\n",
            "Building dependency tree... Done\n",
            "Reading state information... Done\n",
            "Note, selecting 'nsight-systems-2023.2.3' instead of './nsight-systems-2023.2.3_2023.2.3.1001-1_amd64.deb'\n",
            "The following additional packages will be installed:\n",
            "  libtinfo5 libxcb-icccm4 libxcb-image0 libxcb-keysyms1 libxcb-render-util0 libxcb-util1\n",
            "  libxcb-xinerama0 libxcb-xinput0 libxcb-xkb1 libxkbcommon-x11-0 libxtst6\n",
            "The following NEW packages will be installed:\n",
            "  libtinfo5 libxcb-icccm4 libxcb-image0 libxcb-keysyms1 libxcb-render-util0 libxcb-util1\n",
            "  libxcb-xinerama0 libxcb-xinput0 libxcb-xkb1 libxkbcommon-x11-0 libxtst6 nsight-systems-2023.2.3\n",
            "0 upgraded, 12 newly installed, 0 to remove and 50 not upgraded.\n",
            "Need to get 318 MB of archives.\n",
            "After this operation, 1,269 kB of additional disk space will be used.\n",
            "Get:1 https://developer.download.nvidia.com/compute/cuda/repos/ubuntu2204/x86_64  nsight-systems-2023.2.3 2023.2.3.1001-32894139v0 [318 MB]\n",
            "Get:2 http://archive.ubuntu.com/ubuntu jammy-updates/universe amd64 libtinfo5 amd64 6.3-2ubuntu0.1 [100 kB]\n",
            "Get:3 http://archive.ubuntu.com/ubuntu jammy/main amd64 libxcb-xinerama0 amd64 1.14-3ubuntu3 [5,414 B]\n",
            "Get:4 http://archive.ubuntu.com/ubuntu jammy/main amd64 libxcb-xinput0 amd64 1.14-3ubuntu3 [34.3 kB]\n",
            "Get:5 http://archive.ubuntu.com/ubuntu jammy/main amd64 libxcb-xkb1 amd64 1.14-3ubuntu3 [32.8 kB]\n",
            "Get:6 http://archive.ubuntu.com/ubuntu jammy/main amd64 libxkbcommon-x11-0 amd64 1.4.0-1 [14.4 kB]\n",
            "Get:7 http://archive.ubuntu.com/ubuntu jammy/main amd64 libxtst6 amd64 2:1.2.3-1build4 [13.4 kB]\n",
            "Get:8 http://archive.ubuntu.com/ubuntu jammy/main amd64 libxcb-icccm4 amd64 0.4.1-1.1build2 [11.5 kB]\n",
            "Get:9 http://archive.ubuntu.com/ubuntu jammy/main amd64 libxcb-util1 amd64 0.4.0-1build2 [11.4 kB]\n",
            "Get:10 http://archive.ubuntu.com/ubuntu jammy/main amd64 libxcb-image0 amd64 0.4.0-2 [11.5 kB]\n",
            "Get:11 http://archive.ubuntu.com/ubuntu jammy/main amd64 libxcb-keysyms1 amd64 0.4.0-1build3 [8,746 B]\n",
            "Get:12 http://archive.ubuntu.com/ubuntu jammy/main amd64 libxcb-render-util0 amd64 0.3.9-1build3 [10.3 kB]\n",
            "Fetched 318 MB in 4s (76.5 MB/s)\n",
            "Selecting previously unselected package libtinfo5:amd64.\n",
            "(Reading database ... 123634 files and directories currently installed.)\n",
            "Preparing to unpack .../00-libtinfo5_6.3-2ubuntu0.1_amd64.deb ...\n",
            "Unpacking libtinfo5:amd64 (6.3-2ubuntu0.1) ...\n",
            "Selecting previously unselected package libxcb-xinerama0:amd64.\n",
            "Preparing to unpack .../01-libxcb-xinerama0_1.14-3ubuntu3_amd64.deb ...\n",
            "Unpacking libxcb-xinerama0:amd64 (1.14-3ubuntu3) ...\n",
            "Selecting previously unselected package libxcb-xinput0:amd64.\n",
            "Preparing to unpack .../02-libxcb-xinput0_1.14-3ubuntu3_amd64.deb ...\n",
            "Unpacking libxcb-xinput0:amd64 (1.14-3ubuntu3) ...\n",
            "Selecting previously unselected package libxcb-xkb1:amd64.\n",
            "Preparing to unpack .../03-libxcb-xkb1_1.14-3ubuntu3_amd64.deb ...\n",
            "Unpacking libxcb-xkb1:amd64 (1.14-3ubuntu3) ...\n",
            "Selecting previously unselected package libxkbcommon-x11-0:amd64.\n",
            "Preparing to unpack .../04-libxkbcommon-x11-0_1.4.0-1_amd64.deb ...\n",
            "Unpacking libxkbcommon-x11-0:amd64 (1.4.0-1) ...\n",
            "Selecting previously unselected package libxtst6:amd64.\n",
            "Preparing to unpack .../05-libxtst6_2%3a1.2.3-1build4_amd64.deb ...\n",
            "Unpacking libxtst6:amd64 (2:1.2.3-1build4) ...\n",
            "Selecting previously unselected package libxcb-icccm4:amd64.\n",
            "Preparing to unpack .../06-libxcb-icccm4_0.4.1-1.1build2_amd64.deb ...\n",
            "Unpacking libxcb-icccm4:amd64 (0.4.1-1.1build2) ...\n",
            "Selecting previously unselected package libxcb-util1:amd64.\n",
            "Preparing to unpack .../07-libxcb-util1_0.4.0-1build2_amd64.deb ...\n",
            "Unpacking libxcb-util1:amd64 (0.4.0-1build2) ...\n",
            "Selecting previously unselected package libxcb-image0:amd64.\n",
            "Preparing to unpack .../08-libxcb-image0_0.4.0-2_amd64.deb ...\n",
            "Unpacking libxcb-image0:amd64 (0.4.0-2) ...\n",
            "Selecting previously unselected package libxcb-keysyms1:amd64.\n",
            "Preparing to unpack .../09-libxcb-keysyms1_0.4.0-1build3_amd64.deb ...\n",
            "Unpacking libxcb-keysyms1:amd64 (0.4.0-1build3) ...\n",
            "Selecting previously unselected package libxcb-render-util0:amd64.\n",
            "Preparing to unpack .../10-libxcb-render-util0_0.3.9-1build3_amd64.deb ...\n",
            "Unpacking libxcb-render-util0:amd64 (0.3.9-1build3) ...\n",
            "Selecting previously unselected package nsight-systems-2023.2.3.\n",
            "Preparing to unpack .../11-nsight-systems-2023.2.3_2023.2.3.1001-32894139v0_amd64.deb ...\n",
            "Unpacking nsight-systems-2023.2.3 (2023.2.3.1001-32894139v0) ...\n",
            "Setting up libxcb-xinput0:amd64 (1.14-3ubuntu3) ...\n",
            "Setting up libxtst6:amd64 (2:1.2.3-1build4) ...\n",
            "Setting up libxcb-keysyms1:amd64 (0.4.0-1build3) ...\n",
            "Setting up libxcb-render-util0:amd64 (0.3.9-1build3) ...\n",
            "Setting up libxcb-icccm4:amd64 (0.4.1-1.1build2) ...\n",
            "Setting up libxcb-util1:amd64 (0.4.0-1build2) ...\n",
            "Setting up libxcb-xkb1:amd64 (1.14-3ubuntu3) ...\n",
            "Setting up libxcb-image0:amd64 (0.4.0-2) ...\n",
            "Setting up libxcb-xinerama0:amd64 (1.14-3ubuntu3) ...\n",
            "Setting up libxkbcommon-x11-0:amd64 (1.4.0-1) ...\n",
            "Setting up libtinfo5:amd64 (6.3-2ubuntu0.1) ...\n",
            "Setting up nsight-systems-2023.2.3 (2023.2.3.1001-32894139v0) ...\n",
            "update-alternatives: using /opt/nvidia/nsight-systems/2023.2.3/target-linux-x64/nsys to provide /usr/local/bin/nsys (nsys) in auto mode\n",
            "update-alternatives: using /opt/nvidia/nsight-systems/2023.2.3/host-linux-x64/nsys-ui to provide /usr/local/bin/nsys-ui (nsys-ui) in auto mode\n",
            "Processing triggers for libc-bin (2.35-0ubuntu3.4) ...\n",
            "/sbin/ldconfig.real: /usr/local/lib/libtcm_debug.so.1 is not a symbolic link\n",
            "\n",
            "/sbin/ldconfig.real: /usr/local/lib/libtbbbind_2_0.so.3 is not a symbolic link\n",
            "\n",
            "/sbin/ldconfig.real: /usr/local/lib/libumf.so.0 is not a symbolic link\n",
            "\n",
            "/sbin/ldconfig.real: /usr/local/lib/libtcm.so.1 is not a symbolic link\n",
            "\n",
            "/sbin/ldconfig.real: /usr/local/lib/libtbbbind_2_5.so.3 is not a symbolic link\n",
            "\n",
            "/sbin/ldconfig.real: /usr/local/lib/libhwloc.so.15 is not a symbolic link\n",
            "\n",
            "/sbin/ldconfig.real: /usr/local/lib/libur_adapter_level_zero.so.0 is not a symbolic link\n",
            "\n",
            "/sbin/ldconfig.real: /usr/local/lib/libur_adapter_opencl.so.0 is not a symbolic link\n",
            "\n",
            "/sbin/ldconfig.real: /usr/local/lib/libtbb.so.12 is not a symbolic link\n",
            "\n",
            "/sbin/ldconfig.real: /usr/local/lib/libtbbmalloc.so.2 is not a symbolic link\n",
            "\n",
            "/sbin/ldconfig.real: /usr/local/lib/libtbbmalloc_proxy.so.2 is not a symbolic link\n",
            "\n",
            "/sbin/ldconfig.real: /usr/local/lib/libtbbbind.so.3 is not a symbolic link\n",
            "\n",
            "/sbin/ldconfig.real: /usr/local/lib/libur_loader.so.0 is not a symbolic link\n",
            "\n",
            "Reading package lists... Done\n",
            "Building dependency tree... Done\n",
            "Reading state information... Done\n",
            "0 upgraded, 0 newly installed, 0 to remove and 51 not upgraded.\n"
          ]
        }
      ]
    },
    {
      "cell_type": "code",
      "source": [
        "!nsys profile ./op5 64"
      ],
      "metadata": {
        "colab": {
          "base_uri": "https://localhost:8080/"
        },
        "id": "PjkJVfgxaonZ",
        "outputId": "10ff304c-3a83-4edd-a3b9-93df24cdc8eb"
      },
      "execution_count": 24,
      "outputs": [
        {
          "output_type": "stream",
          "name": "stdout",
          "text": [
            "Dataset loaded successfully:\n",
            " - Train samples: 60000\n",
            " - Test samples: 10000\n",
            "Epoch 1 - Loss: 0.891162\n",
            "Epoch 2 - Loss: 0.57137\n",
            "Epoch 3 - Loss: 0.511328\n",
            "Epoch 4 - Loss: 0.479733\n",
            "Epoch 5 - Loss: 0.457779\n",
            "Epoch 6 - Loss: 0.440854\n",
            "Epoch 7 - Loss: 0.426705\n",
            "Epoch 8 - Loss: 0.414685\n",
            "Epoch 9 - Loss: 0.404217\n",
            "Epoch 10 - Loss: 0.394996\n",
            "Processing time: 13418.4 ms\n",
            "Model saved to model.bin\n",
            "Model loaded from model.bin\n",
            "Test Accuracy: 84.38%\n",
            "Generating '/tmp/nsys-report-39db.qdstrm'\n",
            "[1/1] [========================100%] report5.nsys-rep\n",
            "Generated:\n",
            "    /content/report5.nsys-rep\n"
          ]
        }
      ]
    },
    {
      "cell_type": "markdown",
      "source": [
        "![image.png](data:image/png;base64,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)"
      ],
      "metadata": {
        "id": "xgAAYes1ij1F"
      }
    },
    {
      "cell_type": "code",
      "source": [
        "!nsys profile ./op2 64"
      ],
      "metadata": {
        "colab": {
          "base_uri": "https://localhost:8080/"
        },
        "id": "u-S1CZqsih-U",
        "outputId": "a144b247-6503-4c20-a2c9-c10c44946dbf"
      },
      "execution_count": 22,
      "outputs": [
        {
          "output_type": "stream",
          "name": "stdout",
          "text": [
            "Dataset loaded successfully:\n",
            " - Train samples: 60000\n",
            " - Test samples: 10000\n",
            "Epoch 1 - Loss: 0.849831\n",
            "Epoch 2 - Loss: 0.553999\n",
            "Epoch 3 - Loss: 0.498648\n",
            "Epoch 4 - Loss: 0.469262\n",
            "Epoch 5 - Loss: 0.449428\n",
            "Epoch 6 - Loss: 0.434234\n",
            "Epoch 7 - Loss: 0.42175\n",
            "Epoch 8 - Loss: 0.411193\n",
            "Epoch 9 - Loss: 0.40207\n",
            "Epoch 10 - Loss: 0.393931\n",
            "Processing time: 10793.3 ms\n",
            "Model saved to model.bin\n",
            "Model loaded from model.bin\n",
            "Test Accuracy: 84.73%\n",
            "Generating '/tmp/nsys-report-7a99.qdstrm'\n",
            "[1/1] [========================100%] report4.nsys-rep\n",
            "Generated:\n",
            "    /content/report4.nsys-rep\n"
          ]
        }
      ]
    },
    {
      "cell_type": "markdown",
      "source": [
        "![image.png](data:image/png;base64,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)"
      ],
      "metadata": {
        "id": "IlZXxju2jgzw"
      }
    },
    {
      "cell_type": "code",
      "source": [
        "import numpy as np\n",
        "import pandas as pd\n",
        "import matplotlib.pyplot as plt\n",
        "import tensorflow as tf\n",
        "from tensorflow.keras.datasets import fashion_mnist\n",
        "\n",
        "# Load the Fashion MNIST dataset\n",
        "(x_train, y_train), (x_test, y_test) = fashion_mnist.load_data()\n",
        "\n",
        "# Choose a random index\n",
        "random_index = np.random.randint(0, x_train.shape[0])\n",
        "\n",
        "# Get the image and label\n",
        "random_image = x_train[random_index]\n",
        "random_label = y_train[random_index]\n",
        "\n",
        "# Print the image and label\n",
        "plt.imshow(random_image, cmap='gray')\n",
        "plt.title(f\"Label: {random_label}\")\n",
        "plt.axis('off')  # Hide axes\n",
        "plt.show()\n",
        "\n",
        "# Reshape the image to a 1D array\n",
        "reshaped_image = random_image.reshape(1, -1)\n",
        "\n",
        "# Convert the reshaped image and its label to a DataFrame\n",
        "data = pd.DataFrame(reshaped_image)\n",
        "data['Label'] = random_label\n",
        "\n",
        "# Save the data to a CSV file\n",
        "data.to_csv('output_data.csv', index=False,header=False)\n",
        "\n",
        "print(f\"Random image with label {random_label}\")\n"
      ],
      "metadata": {
        "colab": {
          "base_uri": "https://localhost:8080/",
          "height": 445
        },
        "id": "tK2n-N4TMmDH",
        "outputId": "dfd751a5-9a89-4735-b15b-4da9f8b29f0b"
      },
      "execution_count": null,
      "outputs": [
        {
          "output_type": "display_data",
          "data": {
            "text/plain": [
              "<Figure size 640x480 with 1 Axes>"
            ],
            "image/png": "[encoded data removed]"
          },
          "metadata": {}
        },
        {
          "output_type": "stream",
          "name": "stdout",
          "text": [
            "Random image with label 1\n"
          ]
        }
      ]
    },
    {
      "cell_type": "code",
      "source": [
        "!nvcc GPU_Run_Predict.cu -o predict"
      ],
      "metadata": {
        "id": "Whp3c01UKtuj"
      },
      "execution_count": null,
      "outputs": []
    },
    {
      "cell_type": "code",
      "source": [
        "!./predict"
      ],
      "metadata": {
        "colab": {
          "base_uri": "https://localhost:8080/"
        },
        "id": "dl7O0odlLJTR",
        "outputId": "6f08056c-43af-4c5e-f3e0-10ae242041ac"
      },
      "execution_count": null,
      "outputs": [
        {
          "output_type": "stream",
          "name": "stdout",
          "text": [
            "Dataset loaded successfully:\n",
            " - Train samples: 0\n",
            " - Test samples: 10000\n",
            "Model loaded from model.bin\n",
            "Processing time: 161.178 ms\n",
            "Test Accuracy: 84.11%\n",
            "Dataset loaded successfully:\n",
            " - Train samples: 0\n",
            " - Test samples: 1\n",
            "Label of the first image: 1\n"
          ]
        }
      ]
    },
    {
      "cell_type": "markdown",
      "source": [
        "# 5. Reflection"
      ],
      "metadata": {
        "id": "u6aSX3UWjUTH"
      }
    },
    {
      "cell_type": "markdown",
      "source": [
        "\n",
        "* Những khó khăn đã gặp phải\n",
        "    * ANN impelment from scratch\n",
        "    * Cuda Debugging\n",
        "    * Memory Management\n",
        "    * Kernel Optimization\n",
        "\n",
        "* Những gì đã học được\n",
        "    * Using Profiling Tools : `nvprof`, `Nsight`\n",
        "    * Parallel Computing Concepts\n",
        "    * Optimization Techniques, strategies\n",
        "* Nếu có nhiều thời gian hơn, nhóm sẽ:\n",
        "    * Shuffle Batch\n",
        "    * Advanced Neural Network Architectures\n",
        "    * Experiment with New Hardware\n",
        "    * Fixed point (FP16)\n",
        "    * Advanced Neural Network Architectures( CNNs or RNNs)"
      ],
      "metadata": {
        "id": "hQoK4PwTp_FQ"
      }
    },
    {
      "cell_type": "markdown",
      "source": [
        "# 6. Tài liệu tham khảo"
      ],
      "metadata": {
        "id": "61_Ljv4rgZZm"
      }
    },
    {
      "cell_type": "markdown",
      "source": [
        "* [CUDA C++ Programming Guid](https://docs.nvidia.com/cuda/cuda-c-programming-guide/index.html)\n",
        "* [BobMcDear/neural-network-cuda: Neural network from scratch in CUDA/C++](https://github.com/BobMcDear/neural-network-cuda/tree/main?tab=readme-ov-file)\n",
        "* [CUDA Webinar 2](https://developer.download.nvidia.com/assets/cuda/files/reduction.pdf)\n",
        "* [Slide 1](https://developer.download.nvidia.com/CUDA/training/StreamsAndConcurrencyWebinar.pdf)\n",
        "* [cross entropy gradient](https://jmlb.github.io/ml/2017/12/26/Calculate_Gradient_Softmax/)"
      ],
      "metadata": {
        "id": "FFsnHHAImGmA"
      }
    },
    {
      "cell_type": "code",
      "source": [],
      "metadata": {
        "id": "SgFQ2nXyyHtx"
      },
      "execution_count": null,
      "outputs": []
    }
  ],
  "metadata": {
    "colab": {
      "provenance": [],
      "gpuType": "T4"
    },
    "kernelspec": {
      "display_name": "Python 3",
      "name": "python3"
    },
    "language_info": {
      "name": "python"
    },
    "accelerator": "GPU"
  },
  "nbformat": 4,
  "nbformat_minor": 0
}